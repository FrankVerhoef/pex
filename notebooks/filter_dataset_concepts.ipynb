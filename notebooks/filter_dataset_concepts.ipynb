{
 "cells": [
  {
   "attachments": {},
   "cell_type": "markdown",
   "id": "c24c986a",
   "metadata": {},
   "source": [
    "# Filter dataset concepts\n",
    "\n",
    "The goal of this notebook is to filter all nouns, pronous and verbs from the MSC dataset.\n",
    "The resulting list is used to create a reduced knowledge graph, which contains only concepts that occur in the MSC dataset."
   ]
  },
  {
   "cell_type": "code",
   "execution_count": null,
   "id": "4d243c53",
   "metadata": {},
   "outputs": [],
   "source": [
    "from dataset.msc_sessions import MSC_Session\n",
    "import json\n",
    "import spacy\n",
    "from tqdm import tqdm"
   ]
  },
  {
   "cell_type": "markdown",
   "id": "1303b2df",
   "metadata": {},
   "source": [
    "### Define source files and target file"
   ]
  },
  {
   "cell_type": "code",
   "execution_count": null,
   "id": "bed97455",
   "metadata": {},
   "outputs": [],
   "source": [
    "# Datasets\n",
    "datadir = \"/Users/FrankVerhoef/Programming/PEX/data/\"\n",
    "basedir = \"msc/msc_dialogue/\"\n",
    "sessions = [1, 2, 3, 4]\n",
    "subset = 'train'\n",
    "\n",
    "# File to save to resulting filtered concepts\n",
    "kg_datadir = \"kg_data/\"\n",
    "target_path = datadir + kg_datadir + \"dataset_concepts.txt\""
   ]
  },
  {
   "attachments": {},
   "cell_type": "markdown",
   "id": "13856a9f",
   "metadata": {},
   "source": [
    "### Add words from MSC corpus to vocab"
   ]
  },
  {
   "cell_type": "code",
   "execution_count": null,
   "id": "b2b59dbf",
   "metadata": {},
   "outputs": [],
   "source": [
    "corpus = MSC_Session(\n",
    "    basedir=datadir+basedir,\n",
    "    sessions=sessions,\n",
    "    subset=subset\n",
    ")\n",
    "\n",
    "nlp = spacy.load('en_core_web_sm')\n",
    "\n",
    "def filter(token):\n",
    "    \"\"\"\n",
    "    Filter: keep only tokens that satisfy the conditions in this filter\n",
    "    \"\"\"\n",
    "    return token.pos_ in ['NOUN', 'PROPN', 'VERB']\n",
    "\n",
    "vocab = {}\n",
    "i=0\n",
    "for doc in tqdm(nlp.pipe(corpus), desc=\"Filter MSC dataset\"):\n",
    "    tokens = [token.text for token in doc if filter(token)]\n",
    "    # add words to vocab\n",
    "    for t in tokens:\n",
    "        if vocab.get(t, False):\n",
    "            vocab[t] += 1\n",
    "        else:\n",
    "            vocab[t] = 1\n",
    "    \n",
    "    i+=1\n",
    "print(\"Read {} lines with {} tokens\".format(i, sum(vocab.values())))\n",
    "print(\"Vocab has {} entries\".format(len(vocab.keys())))"
   ]
  },
  {
   "attachments": {},
   "cell_type": "markdown",
   "id": "84f48061",
   "metadata": {},
   "source": [
    "### Inspect the resulting vocab"
   ]
  },
  {
   "cell_type": "code",
   "execution_count": null,
   "id": "9434d565",
   "metadata": {},
   "outputs": [],
   "source": [
    "sorted(vocab.items(), key=lambda x:x[1], reverse=True)[:50]"
   ]
  },
  {
   "cell_type": "code",
   "execution_count": null,
   "id": "4818965f",
   "metadata": {},
   "outputs": [],
   "source": [
    "sorted(vocab.items(), key=lambda x:x[0], reverse=False)[:50]"
   ]
  },
  {
   "cell_type": "markdown",
   "id": "cddfd3dc",
   "metadata": {},
   "source": [
    "### Save tokens to target file"
   ]
  },
  {
   "cell_type": "code",
   "execution_count": null,
   "id": "ec3ddb67",
   "metadata": {},
   "outputs": [],
   "source": [
    "with open(target_path, \"w\") as f:\n",
    "    for c in vocab.keys():\n",
    "        f.write(c)\n",
    "        f.write('\\n')"
   ]
  }
 ],
 "metadata": {
  "kernelspec": {
   "display_name": "Python 3",
   "language": "python",
   "name": "python3"
  },
  "language_info": {
   "codemirror_mode": {
    "name": "ipython",
    "version": 3
   },
   "file_extension": ".py",
   "mimetype": "text/x-python",
   "name": "python",
   "nbconvert_exporter": "python",
   "pygments_lexer": "ipython3",
   "version": "3.9.16"
  }
 },
 "nbformat": 4,
 "nbformat_minor": 5
}
