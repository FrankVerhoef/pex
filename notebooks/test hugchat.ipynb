{
 "cells": [
  {
   "cell_type": "code",
   "execution_count": null,
   "metadata": {},
   "outputs": [],
   "source": [
    "from hugchat import hugchat"
   ]
  },
  {
   "cell_type": "code",
   "execution_count": null,
   "metadata": {},
   "outputs": [],
   "source": [
    "from hugchat import hugchat\n",
    "\n",
    "# start a new huggingchat connection\n",
    "chatbot = hugchat.ChatBot()\n",
    "\n",
    "# start a new conversation\n",
    "id = chatbot.new_conversation()\n",
    "chatbot.change_conversation(id)\n",
    "\n",
    "# enter your message here\n",
    "msg = 'Why should I learn Python'\n",
    "\n",
    "# print the response\n",
    "print(chatbot.chat(msg))"
   ]
  }
 ],
 "metadata": {
  "language_info": {
   "name": "python"
  },
  "orig_nbformat": 4
 },
 "nbformat": 4,
 "nbformat_minor": 2
}
