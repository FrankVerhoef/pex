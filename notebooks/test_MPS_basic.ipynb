{
 "cells": [
  {
   "cell_type": "code",
   "execution_count": null,
   "id": "5a97b81c",
   "metadata": {},
   "outputs": [],
   "source": [
    "import torch\n",
    "import torch.nn as nn"
   ]
  },
  {
   "cell_type": "code",
   "execution_count": null,
   "id": "df3f6afd",
   "metadata": {},
   "outputs": [],
   "source": [
    "# this ensures that the current MacOS version is at least 12.3+\n",
    "print(torch.backends.mps.is_available())\n",
    "\n",
    "# this ensures that the current current PyTorch installation was built with MPS activated.\n",
    "print(torch.backends.mps.is_built())"
   ]
  },
  {
   "cell_type": "code",
   "execution_count": null,
   "id": "11dc2afc",
   "metadata": {},
   "outputs": [],
   "source": [
    "X, y = torch.rand(16, 10).to(\"mps\"), torch.rand(16, 1).to(\"mps\")\n",
    "model = nn.Linear(10, 1).to(\"mps\")\n",
    "criterion = nn.L1Loss() # nn.KLDivLoss()\n",
    "loss = criterion(model(X), y)\n"
   ]
  },
  {
   "cell_type": "code",
   "execution_count": null,
   "id": "194f3531",
   "metadata": {},
   "outputs": [],
   "source": [
    "loss.backward()"
   ]
  },
  {
   "cell_type": "code",
   "execution_count": null,
   "id": "052aaaf0",
   "metadata": {},
   "outputs": [],
   "source": [
    "lstm = nn.LSTM(\n",
    "    input_size = 32,\n",
    "    hidden_size = 64,\n",
    "    num_layers = 1,\n",
    "    batch_first = True,\n",
    "    bidirectional = False\n",
    ").to(\"mps\")"
   ]
  },
  {
   "cell_type": "code",
   "execution_count": null,
   "id": "c12b545f",
   "metadata": {},
   "outputs": [],
   "source": [
    "X = torch.rand(8, 32).to(\"mps\")\n",
    "y = torch.rand(8, 64).to(\"mps\")"
   ]
  },
  {
   "cell_type": "code",
   "execution_count": null,
   "id": "cbf57d83",
   "metadata": {},
   "outputs": [],
   "source": [
    "out, (hidden, state) = lstm(X)"
   ]
  },
  {
   "cell_type": "code",
   "execution_count": null,
   "id": "70662d66",
   "metadata": {},
   "outputs": [],
   "source": [
    "out.shape"
   ]
  },
  {
   "cell_type": "code",
   "execution_count": null,
   "id": "8c47010b",
   "metadata": {},
   "outputs": [],
   "source": [
    "criterion = nn.MSELoss()"
   ]
  },
  {
   "cell_type": "code",
   "execution_count": null,
   "id": "2eb819d3",
   "metadata": {},
   "outputs": [],
   "source": [
    "loss = criterion(out, y)"
   ]
  },
  {
   "cell_type": "code",
   "execution_count": null,
   "id": "c329e1bf",
   "metadata": {},
   "outputs": [],
   "source": [
    "loss"
   ]
  },
  {
   "cell_type": "code",
   "execution_count": null,
   "id": "9f6b2c3d",
   "metadata": {},
   "outputs": [],
   "source": [
    "loss.backward()"
   ]
  },
  {
   "cell_type": "code",
   "execution_count": null,
   "id": "2c4e52f2",
   "metadata": {},
   "outputs": [],
   "source": []
  }
 ],
 "metadata": {
  "kernelspec": {
   "display_name": "pex",
   "language": "python",
   "name": "python3"
  },
  "language_info": {
   "codemirror_mode": {
    "name": "ipython",
    "version": 3
   },
   "file_extension": ".py",
   "mimetype": "text/x-python",
   "name": "python",
   "nbconvert_exporter": "python",
   "pygments_lexer": "ipython3",
   "version": "3.9.16"
  },
  "vscode": {
   "interpreter": {
    "hash": "260ddcfb032fcff9e80291cad9523c147555c42448531d80008848bd964cb49d"
   }
  }
 },
 "nbformat": 4,
 "nbformat_minor": 5
}
