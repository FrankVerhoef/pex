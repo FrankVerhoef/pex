{
 "cells": [
  {
   "cell_type": "code",
   "execution_count": 22,
   "metadata": {},
   "outputs": [],
   "source": [
    "def resort(l, indices):\n",
    "    resorted = sorted(zip(l, indices), key=lambda x:x[1])\n",
    "    resorted = [item for item,_ in resorted]\n",
    "\n",
    "    for (resorted_i, v), i in zip(resorted, indices):\n",
    "        assert resorted_i == i, f\"Mismatch {resorted_i}, {i}\"\n",
    "\n",
    "    return resorted"
   ]
  },
  {
   "cell_type": "code",
   "execution_count": 12,
   "metadata": {},
   "outputs": [],
   "source": [
    "original_indices = [6,3,10,7]"
   ]
  },
  {
   "cell_type": "code",
   "execution_count": 19,
   "metadata": {},
   "outputs": [],
   "source": [
    "texts = [\"aap\", \"noot\", \"mies\", \"wim\"]\n",
    "results = [(3, 100), (6, 33), (8, 55), (10, 0)]"
   ]
  },
  {
   "cell_type": "code",
   "execution_count": 20,
   "metadata": {},
   "outputs": [],
   "source": [
    "sorted_indices = sorted(original_indices)"
   ]
  },
  {
   "cell_type": "code",
   "execution_count": 23,
   "metadata": {},
   "outputs": [
    {
     "ename": "AssertionError",
     "evalue": "Mismatch 8, 7",
     "output_type": "error",
     "traceback": [
      "\u001b[0;31m---------------------------------------------------------------------------\u001b[0m",
      "\u001b[0;31mAssertionError\u001b[0m                            Traceback (most recent call last)",
      "Cell \u001b[0;32mIn[23], line 1\u001b[0m\n\u001b[0;32m----> 1\u001b[0m resorted_results \u001b[39m=\u001b[39m resort(results, original_indices)\n\u001b[1;32m      2\u001b[0m resorted_results\n",
      "Cell \u001b[0;32mIn[22], line 6\u001b[0m, in \u001b[0;36mresort\u001b[0;34m(l, indices)\u001b[0m\n\u001b[1;32m      3\u001b[0m resorted \u001b[39m=\u001b[39m [item \u001b[39mfor\u001b[39;00m item,_ \u001b[39min\u001b[39;00m resorted]\n\u001b[1;32m      5\u001b[0m \u001b[39mfor\u001b[39;00m (resorted_i, v), i \u001b[39min\u001b[39;00m \u001b[39mzip\u001b[39m(resorted, indices):\n\u001b[0;32m----> 6\u001b[0m     \u001b[39massert\u001b[39;00m resorted_i \u001b[39m==\u001b[39m i, \u001b[39mf\u001b[39m\u001b[39m\"\u001b[39m\u001b[39mMismatch \u001b[39m\u001b[39m{\u001b[39;00mresorted_i\u001b[39m}\u001b[39;00m\u001b[39m, \u001b[39m\u001b[39m{\u001b[39;00mi\u001b[39m}\u001b[39;00m\u001b[39m\"\u001b[39m\n\u001b[1;32m      8\u001b[0m \u001b[39mreturn\u001b[39;00m resorted\n",
      "\u001b[0;31mAssertionError\u001b[0m: Mismatch 8, 7"
     ]
    }
   ],
   "source": [
    "resorted_results = resort(results, original_indices)\n",
    "resorted_results"
   ]
  },
  {
   "cell_type": "code",
   "execution_count": 24,
   "metadata": {},
   "outputs": [],
   "source": [
    "key = {dialog_id: index for dialog_id, index in zip(original_indices, list(range(len(original_indices))))}"
   ]
  },
  {
   "cell_type": "code",
   "execution_count": 25,
   "metadata": {},
   "outputs": [
    {
     "data": {
      "text/plain": [
       "{6: 0, 3: 1, 10: 2, 7: 3}"
      ]
     },
     "execution_count": 25,
     "metadata": {},
     "output_type": "execute_result"
    }
   ],
   "source": [
    "key"
   ]
  },
  {
   "cell_type": "code",
   "execution_count": null,
   "metadata": {},
   "outputs": [],
   "source": []
  }
 ],
 "metadata": {
  "kernelspec": {
   "display_name": "Python 3",
   "language": "python",
   "name": "python3"
  },
  "language_info": {
   "codemirror_mode": {
    "name": "ipython",
    "version": 3
   },
   "file_extension": ".py",
   "mimetype": "text/x-python",
   "name": "python",
   "nbconvert_exporter": "python",
   "pygments_lexer": "ipython3",
   "version": "3.9.16"
  },
  "orig_nbformat": 4
 },
 "nbformat": 4,
 "nbformat_minor": 2
}
