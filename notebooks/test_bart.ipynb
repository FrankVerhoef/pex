{
 "cells": [
  {
   "cell_type": "code",
   "execution_count": null,
   "metadata": {},
   "outputs": [],
   "source": [
    "import torch\n",
    "\n",
    "from transformers import AutoTokenizer\n",
    "from models.bart_extractor import BartExtractor, BART_BASE\n",
    "from dataset.msc_summary_turns import MSC_Turns\n",
    "from dataset.msc_summary import MSC_Summaries\n",
    "\n",
    "import utils.logging as logging"
   ]
  },
  {
   "cell_type": "code",
   "execution_count": null,
   "metadata": {},
   "outputs": [],
   "source": [
    "logging.set_log_level(logging.SPAM)\n",
    "\n",
    "# Settings for test\n",
    "datadir = '/Users/FrankVerhoef/Programming/PEX/data/'\n",
    "basedir = 'msc/msc_personasummary/'\n",
    "checkpoint_dir = '/Users/FrankVerhoef/Programming/PEX/checkpoints/'\n",
    "load = 'trained_bart'\n",
    "sessions = [1, 2, 3, 4]\n",
    "len_context = 2\n",
    "speaker_prefixes = [\"<self>\", \"<other>\"]\n",
    "nofact_token = '<nofact>'\n",
    "add_tokens = speaker_prefixes + [nofact_token]\n",
    "test_samples = 20\n",
    "\n",
    "# Setup\n",
    "tokenizer = AutoTokenizer.from_pretrained(\"facebook/bart-base\", padding_side='left')\n",
    "if add_tokens is not None:\n",
    "    num_added_toks = tokenizer.add_tokens(add_tokens)\n",
    "nofact_token_id = tokenizer.convert_tokens_to_ids(nofact_token) if nofact_token != '' else tokenizer.eos_token_id\n",
    "assert nofact_token_id != tokenizer.unk_token_id, \"nofact_token '{}' must be known token\".format(nofact_token)\n",
    "\n",
    "model = BartExtractor(bart_base=BART_BASE, nofact_token_id=nofact_token_id)\n",
    "model.bart.resize_token_embeddings(len(tokenizer))\n",
    "\n",
    "dataset_config = {\n",
    "    'basedir': datadir + basedir,\n",
    "    'sessions': sessions,\n",
    "    'tokenizer': tokenizer,\n",
    "    'len_context': len_context,\n",
    "    'speaker_prefixes': speaker_prefixes,\n",
    "    'nofact_token': nofact_token,\n",
    "    'batch_format': 'huggingface',\n",
    "    'batch_pad_id': tokenizer.pad_token_id\n",
    "} \n",
    "msc_turns = MSC_Turns(subset='test', max_samples=test_samples, **dataset_config)\n",
    "\n",
    "logging.info(\"Loading model from {}\".format(checkpoint_dir + load))\n",
    "model.load_state_dict(torch.load(checkpoint_dir + load, map_location=torch.device('cpu')))"
   ]
  },
  {
   "cell_type": "code",
   "execution_count": null,
   "metadata": {},
   "outputs": [],
   "source": [
    "for i in range(3):\n",
    "    print(msc_turns[i])"
   ]
  },
  {
   "cell_type": "code",
   "execution_count": null,
   "metadata": {},
   "outputs": [],
   "source": [
    "eval_kwargs = {'device': 'cpu', 'log_interval': 10, 'decoder_max': 20}\n",
    "\n",
    "logging.info(\"Evaluating model on {} samples of testdata in {} with arguments {}\".format(len(msc_turns), basedir, eval_kwargs))\n",
    "eval_stats = msc_turns.evaluate(model, **eval_kwargs)"
   ]
  },
  {
   "cell_type": "code",
   "execution_count": null,
   "metadata": {},
   "outputs": [],
   "source": [
    "msc_summaries = MSC_Summaries(\n",
    "    basedir=datadir + basedir, \n",
    "    sessions=sessions, \n",
    "    subset='test', \n",
    "    tokenizer=tokenizer, \n",
    "    speaker_prefixes=speaker_prefixes, \n",
    "    max_samples=test_samples, \n",
    "    batch_pad_id=tokenizer.pad_token_id\n",
    ")"
   ]
  },
  {
   "cell_type": "code",
   "execution_count": null,
   "metadata": {},
   "outputs": [],
   "source": [
    "eval_kwargs = {'device': 'cpu', 'log_interval': 10, 'decoder_max': 20}\n",
    "eval_stats = msc_summaries.evaluate(model, **eval_kwargs)"
   ]
  },
  {
   "cell_type": "code",
   "execution_count": null,
   "metadata": {},
   "outputs": [],
   "source": []
  }
 ],
 "metadata": {
  "kernelspec": {
   "display_name": "pex",
   "language": "python",
   "name": "python3"
  },
  "language_info": {
   "codemirror_mode": {
    "name": "ipython",
    "version": 3
   },
   "file_extension": ".py",
   "mimetype": "text/x-python",
   "name": "python",
   "nbconvert_exporter": "python",
   "pygments_lexer": "ipython3",
   "version": "3.9.16"
  },
  "orig_nbformat": 4
 },
 "nbformat": 4,
 "nbformat_minor": 2
}
