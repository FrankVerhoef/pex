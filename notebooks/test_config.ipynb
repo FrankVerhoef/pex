{
 "cells": [
  {
   "cell_type": "code",
   "execution_count": 3,
   "metadata": {},
   "outputs": [],
   "source": [
    "import configparser\n",
    "import json"
   ]
  },
  {
   "cell_type": "code",
   "execution_count": 4,
   "metadata": {},
   "outputs": [],
   "source": [
    "config = {\n",
    "    \"DEFAULT\": {\n",
    "        \"batch_size\": 16\n",
    "    },\n",
    "    \"model\": {\n",
    "        \"name\": 'BartExtractor',\n",
    "        \"base\": ['this_is_the_base', 'with this'],\n",
    "        \"size\": 1.6\n",
    "    }\n",
    "}\n",
    "with open(\"testconfig.json\", \"w\") as f:\n",
    "    f.write(json.dumps(config))"
   ]
  },
  {
   "cell_type": "code",
   "execution_count": 20,
   "metadata": {},
   "outputs": [],
   "source": [
    "parser = configparser.ConfigParser()"
   ]
  },
  {
   "cell_type": "code",
   "execution_count": 21,
   "metadata": {},
   "outputs": [],
   "source": [
    "parser.read_dict(config)"
   ]
  },
  {
   "cell_type": "code",
   "execution_count": 22,
   "metadata": {},
   "outputs": [
    {
     "data": {
      "text/plain": [
       "['model']"
      ]
     },
     "execution_count": 22,
     "metadata": {},
     "output_type": "execute_result"
    }
   ],
   "source": [
    "parser.sections()"
   ]
  },
  {
   "cell_type": "code",
   "execution_count": 23,
   "metadata": {},
   "outputs": [
    {
     "data": {
      "text/plain": [
       "{'batch_size': '16'}"
      ]
     },
     "execution_count": 23,
     "metadata": {},
     "output_type": "execute_result"
    }
   ],
   "source": [
    "parser.defaults()"
   ]
  },
  {
   "cell_type": "code",
   "execution_count": 24,
   "metadata": {},
   "outputs": [
    {
     "name": "stdout",
     "output_type": "stream",
     "text": [
      "DEFAULT <Section: DEFAULT>\n",
      "batch_size 16\n",
      "model <Section: model>\n",
      "name BartExtractor\n",
      "base ['this_is_the_base', 'with this']\n",
      "size 1.6\n",
      "batch_size 16\n"
     ]
    }
   ],
   "source": [
    "for k, v in parser.items():\n",
    "    print(k, v)\n",
    "    for sk, sv in v.items():\n",
    "        print(sk, sv)"
   ]
  },
  {
   "cell_type": "code",
   "execution_count": 25,
   "metadata": {},
   "outputs": [],
   "source": [
    "with open(\"configtest.config\", \"w\") as f:\n",
    "    parser.write(f)"
   ]
  },
  {
   "cell_type": "code",
   "execution_count": 26,
   "metadata": {},
   "outputs": [],
   "source": [
    "cf2 = configparser.ConfigParser()\n",
    "with open(\"configtest.config\", \"r\") as f:\n",
    "    cf2.read_file(f)"
   ]
  },
  {
   "cell_type": "code",
   "execution_count": 27,
   "metadata": {},
   "outputs": [
    {
     "name": "stdout",
     "output_type": "stream",
     "text": [
      "DEFAULT <Section: DEFAULT>\n",
      "batch_size 16\n",
      "model <Section: model>\n",
      "name BartExtractor\n",
      "base ['this_is_the_base', 'with this']\n",
      "size 1.6\n",
      "batch_size 16\n"
     ]
    }
   ],
   "source": [
    "for k, v in cf2.items():\n",
    "    print(k, v)\n",
    "    for sk, sv in v.items():\n",
    "        print(sk, sv)"
   ]
  },
  {
   "cell_type": "code",
   "execution_count": 28,
   "metadata": {},
   "outputs": [
    {
     "ename": "AttributeError",
     "evalue": "'str' object has no attribute 'append'",
     "output_type": "error",
     "traceback": [
      "\u001b[0;31m---------------------------------------------------------------------------\u001b[0m",
      "\u001b[0;31mAttributeError\u001b[0m                            Traceback (most recent call last)",
      "Cell \u001b[0;32mIn[28], line 1\u001b[0m\n\u001b[0;32m----> 1\u001b[0m cf2[\u001b[39m\"\u001b[39;49m\u001b[39mmodel\u001b[39;49m\u001b[39m\"\u001b[39;49m][\u001b[39m\"\u001b[39;49m\u001b[39mbase\u001b[39;49m\u001b[39m\"\u001b[39;49m]\u001b[39m.\u001b[39;49mappend(\u001b[39m\"\u001b[39m\u001b[39melement\u001b[39m\u001b[39m\"\u001b[39m)\n",
      "\u001b[0;31mAttributeError\u001b[0m: 'str' object has no attribute 'append'"
     ]
    }
   ],
   "source": [
    "cf2[\"model\"][\"base\"].append(\"element\")"
   ]
  },
  {
   "cell_type": "code",
   "execution_count": 1,
   "metadata": {},
   "outputs": [],
   "source": [
    "import argparse\n",
    "import sys"
   ]
  },
  {
   "cell_type": "code",
   "execution_count": 2,
   "metadata": {},
   "outputs": [
    {
     "data": {
      "text/plain": [
       "_StoreAction(option_strings=['--size'], dest='size', nargs=None, const=None, default=3.14, type=<class 'float'>, choices=None, required=False, help='pi', metavar=None)"
      ]
     },
     "execution_count": 2,
     "metadata": {},
     "output_type": "execute_result"
    }
   ],
   "source": [
    "argparser = argparse.ArgumentParser(description=\"Test MSC_Summary\", conflict_handler=\"resolve\")\n",
    "argparser.add_argument(\"--base\", nargs='*', help=\"a list\")\n",
    "argparser.add_argument(\"--size\", type=float, default=3.14, help=\"pi\")\n",
    "\n"
   ]
  },
  {
   "cell_type": "code",
   "execution_count": 4,
   "metadata": {},
   "outputs": [
    {
     "name": "stderr",
     "output_type": "stream",
     "text": [
      "usage: ipykernel_launcher.py [-h] [--size SIZE]\n",
      "ipykernel_launcher.py: error: unrecognized arguments: --ip=127.0.0.1 --stdin=9018 --control=9016 --hb=9015 --Session.signature_scheme=\"hmac-sha256\" --Session.key=b\"19bd54cf-78ae-4320-b4c8-47c64214b262\" --shell=9017 --transport=\"tcp\" --iopub=9019 --f=/Users/FrankVerhoef/Library/Jupyter/runtime/kernel-v2-87543KiaFJPm3N9SU.json\n"
     ]
    },
    {
     "ename": "SystemExit",
     "evalue": "2",
     "output_type": "error",
     "traceback": [
      "An exception has occurred, use %tb to see the full traceback.\n",
      "\u001b[0;31mSystemExit\u001b[0m\u001b[0;31m:\u001b[0m 2\n"
     ]
    },
    {
     "name": "stderr",
     "output_type": "stream",
     "text": [
      "/Users/FrankVerhoef/opt/miniconda3/envs/pex/lib/python3.9/site-packages/IPython/core/interactiveshell.py:3450: UserWarning: To exit: use 'exit', 'quit', or Ctrl-D.\n",
      "  warn(\"To exit: use 'exit', 'quit', or Ctrl-D.\", stacklevel=1)\n"
     ]
    }
   ],
   "source": [
    "args = argparser.parse_args()"
   ]
  },
  {
   "cell_type": "code",
   "execution_count": 5,
   "metadata": {},
   "outputs": [
    {
     "data": {
      "text/plain": [
       "['/Users/FrankVerhoef/opt/miniconda3/envs/pex/lib/python3.9/site-packages/ipykernel_launcher.py',\n",
       " '--ip=127.0.0.1',\n",
       " '--stdin=9018',\n",
       " '--control=9016',\n",
       " '--hb=9015',\n",
       " '--Session.signature_scheme=\"hmac-sha256\"',\n",
       " '--Session.key=b\"19bd54cf-78ae-4320-b4c8-47c64214b262\"',\n",
       " '--shell=9017',\n",
       " '--transport=\"tcp\"',\n",
       " '--iopub=9019',\n",
       " '--f=/Users/FrankVerhoef/Library/Jupyter/runtime/kernel-v2-87543KiaFJPm3N9SU.json',\n",
       " '--size=5.5']"
      ]
     },
     "execution_count": 5,
     "metadata": {},
     "output_type": "execute_result"
    }
   ],
   "source": [
    "sys.argv"
   ]
  },
  {
   "cell_type": "code",
   "execution_count": 73,
   "metadata": {},
   "outputs": [],
   "source": [
    "from ast import literal_eval\n",
    "\n",
    "def load_config(savepath):\n",
    "    config = {}\n",
    "    with open(savepath, 'r') as f:\n",
    "\n",
    "        # Read first line with main args; format = \"# Configfile action={args.action}, model={args.model}, task={args.task}\\n\"\n",
    "        lines = f.readlines()\n",
    "        assert len(lines) > 0, \"Missing header in configfile\"\n",
    "        assert lines[0][:12] == '# Configfile', f\"Invalid header for configfile: '{lines[0]}'\"\n",
    "        mainargs = lines[0][:-1].replace(',', '').split()[-3:]\n",
    "        for arg in mainargs:\n",
    "            assert arg.find('=') >= 0, f\"Invalid format: '{arg}'\"\n",
    "            k, v = arg.replace(' ', '').split('=')\n",
    "            config[k] = v\n",
    "        \n",
    "        # Read the remaining lines; format = \"{k} = {v}\\n\"\n",
    "        for arg in lines[1:]:\n",
    "            k, v = arg[:-1].replace(' ', '').split('=')\n",
    "            try:\n",
    "                config[k] = literal_eval(v)\n",
    "            except:\n",
    "                config[k] = v\n",
    "\n",
    "    return config"
   ]
  },
  {
   "cell_type": "code",
   "execution_count": 74,
   "metadata": {},
   "outputs": [
    {
     "data": {
      "text/plain": [
       "{'action': 'tune',\n",
       " 'model': 'bart',\n",
       " 'task': 'generate',\n",
       " 'seed': 42,\n",
       " 'checkpoint_dir': './checkpoints/',\n",
       " 'output_dir': '/scratch-local/frankv.2809780/output/',\n",
       " 'log_interval': 10,\n",
       " 'loglevel': 'INFO',\n",
       " 'logdir': '/scratch-local/frankv.2809780/logs/',\n",
       " 'load': '',\n",
       " 'save': '',\n",
       " 'device': 'cuda',\n",
       " 'use_wandb': False,\n",
       " 'experiment_name': 'trainpex',\n",
       " 'epochs': 1,\n",
       " 'learning_rate': 1e-05,\n",
       " 'valid_interval': 10,\n",
       " 'patience': 4,\n",
       " 'batch_size': 64,\n",
       " 'skip_eval': False,\n",
       " 'print_max': 20,\n",
       " 'lm_loss_factor': 1.0,\n",
       " 'decoder_max': 50,\n",
       " 'bart_base': 'facebook/bart-large-cnn',\n",
       " 'datadir': '/scratch-local/frankv.2809780/data/',\n",
       " 'basedir': 'msc/msc_personasummary/',\n",
       " 'train_samples': 10000,\n",
       " 'valid_samples': 2000,\n",
       " 'nofact_token': '',\n",
       " 'len_context': 2,\n",
       " 'sessions': ['1']}"
      ]
     },
     "execution_count": 74,
     "metadata": {},
     "output_type": "execute_result"
    }
   ],
   "source": [
    "load_config('../output/ray_results/bart_base_session1/base.config')"
   ]
  }
 ],
 "metadata": {
  "kernelspec": {
   "display_name": "pex",
   "language": "python",
   "name": "python3"
  },
  "language_info": {
   "codemirror_mode": {
    "name": "ipython",
    "version": 3
   },
   "file_extension": ".py",
   "mimetype": "text/x-python",
   "name": "python",
   "nbconvert_exporter": "python",
   "pygments_lexer": "ipython3",
   "version": "3.9.16"
  },
  "orig_nbformat": 4
 },
 "nbformat": 4,
 "nbformat_minor": 2
}
