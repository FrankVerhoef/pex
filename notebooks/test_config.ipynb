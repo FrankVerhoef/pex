{
 "cells": [
  {
   "cell_type": "code",
   "execution_count": 1,
   "metadata": {},
   "outputs": [],
   "source": [
    "import configparser\n",
    "import json\n",
    "from ast import literal_eval"
   ]
  },
  {
   "cell_type": "code",
   "execution_count": 2,
   "metadata": {},
   "outputs": [],
   "source": [
    "config = {\n",
    "    \"DEFAULT\": {\n",
    "        \"batch_size\": 16\n",
    "    },\n",
    "    \"model\": {\n",
    "        \"name\": 'BartExtractor',\n",
    "        \"base\": ['this_is_the_base', 'with this'],\n",
    "        \"size\": 1.6\n",
    "    }\n",
    "}\n",
    "with open(\"testconfig.json\", \"w\") as f:\n",
    "    f.write(json.dumps(config))"
   ]
  },
  {
   "cell_type": "code",
   "execution_count": 3,
   "metadata": {},
   "outputs": [],
   "source": [
    "parser = configparser.ConfigParser()"
   ]
  },
  {
   "cell_type": "code",
   "execution_count": 4,
   "metadata": {},
   "outputs": [],
   "source": [
    "parser.read_dict(config)"
   ]
  },
  {
   "cell_type": "code",
   "execution_count": 5,
   "metadata": {},
   "outputs": [
    {
     "data": {
      "text/plain": [
       "['model']"
      ]
     },
     "execution_count": 5,
     "metadata": {},
     "output_type": "execute_result"
    }
   ],
   "source": [
    "parser.sections()"
   ]
  },
  {
   "cell_type": "code",
   "execution_count": 6,
   "metadata": {},
   "outputs": [
    {
     "data": {
      "text/plain": [
       "{'batch_size': '16'}"
      ]
     },
     "execution_count": 6,
     "metadata": {},
     "output_type": "execute_result"
    }
   ],
   "source": [
    "parser.defaults()"
   ]
  },
  {
   "cell_type": "code",
   "execution_count": 7,
   "metadata": {},
   "outputs": [
    {
     "name": "stdout",
     "output_type": "stream",
     "text": [
      "DEFAULT <Section: DEFAULT>\n",
      "batch_size 16\n",
      "model <Section: model>\n",
      "name BartExtractor\n",
      "base ['this_is_the_base', 'with this']\n",
      "size 1.6\n",
      "batch_size 16\n"
     ]
    }
   ],
   "source": [
    "for k, v in parser.items():\n",
    "    print(k, v)\n",
    "    for sk, sv in v.items():\n",
    "        print(sk, sv)"
   ]
  },
  {
   "cell_type": "code",
   "execution_count": 8,
   "metadata": {},
   "outputs": [],
   "source": [
    "with open(\"configtest.config\", \"w\") as f:\n",
    "    parser.write(f)"
   ]
  },
  {
   "cell_type": "code",
   "execution_count": 32,
   "metadata": {},
   "outputs": [],
   "source": [
    "cf2 = configparser.ConfigParser()\n",
    "with open(\"configtest.config\", \"r\") as f:\n",
    "    cf2.read_file(f)"
   ]
  },
  {
   "cell_type": "code",
   "execution_count": 33,
   "metadata": {},
   "outputs": [
    {
     "name": "stdout",
     "output_type": "stream",
     "text": [
      "DEFAULT <Section: DEFAULT>\n",
      "batch_size 16\n",
      "model <Section: model>\n",
      "name BartExtractor\n",
      "base ['this_is_the_base', 'with this']\n",
      "size 1.6\n",
      "batch_size 16\n"
     ]
    }
   ],
   "source": [
    "for k, v in cf2.items():\n",
    "    print(k, v)\n",
    "    for sk, sv in v.items():\n",
    "        print(sk, sv)"
   ]
  },
  {
   "cell_type": "code",
   "execution_count": 34,
   "metadata": {},
   "outputs": [
    {
     "ename": "AttributeError",
     "evalue": "'str' object has no attribute 'append'",
     "output_type": "error",
     "traceback": [
      "\u001b[0;31m---------------------------------------------------------------------------\u001b[0m",
      "\u001b[0;31mAttributeError\u001b[0m                            Traceback (most recent call last)",
      "Cell \u001b[0;32mIn[34], line 1\u001b[0m\n\u001b[0;32m----> 1\u001b[0m cf2[\u001b[39m\"\u001b[39;49m\u001b[39mmodel\u001b[39;49m\u001b[39m\"\u001b[39;49m][\u001b[39m\"\u001b[39;49m\u001b[39mbase\u001b[39;49m\u001b[39m\"\u001b[39;49m]\u001b[39m.\u001b[39;49mappend(\u001b[39m\"\u001b[39m\u001b[39melement\u001b[39m\u001b[39m\"\u001b[39m)\n",
      "\u001b[0;31mAttributeError\u001b[0m: 'str' object has no attribute 'append'"
     ]
    }
   ],
   "source": [
    "cf2[\"model\"][\"base\"].append(\"element\")"
   ]
  },
  {
   "cell_type": "code",
   "execution_count": 35,
   "metadata": {},
   "outputs": [
    {
     "name": "stdout",
     "output_type": "stream",
     "text": [
      "['this_is_the_base', 'with this']\n",
      "['this_is_the_base', 'with this', 'element']\n"
     ]
    }
   ],
   "source": [
    "print(cf2[\"model\"][\"base\"])\n",
    "l = literal_eval(cf2[\"model\"][\"base\"])\n",
    "l.append(\"element\")\n",
    "cf2[\"model\"][\"base\"] = str(l)\n",
    "print(cf2[\"model\"][\"base\"])\n"
   ]
  },
  {
   "cell_type": "code",
   "execution_count": null,
   "metadata": {},
   "outputs": [],
   "source": []
  }
 ],
 "metadata": {
  "kernelspec": {
   "display_name": "pex",
   "language": "python",
   "name": "python3"
  },
  "language_info": {
   "codemirror_mode": {
    "name": "ipython",
    "version": 3
   },
   "file_extension": ".py",
   "mimetype": "text/x-python",
   "name": "python",
   "nbconvert_exporter": "python",
   "pygments_lexer": "ipython3",
   "version": "3.9.16"
  },
  "orig_nbformat": 4
 },
 "nbformat": 4,
 "nbformat_minor": 2
}
