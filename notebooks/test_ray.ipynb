{
 "cells": [
  {
   "cell_type": "code",
   "execution_count": 1,
   "id": "078f5646",
   "metadata": {},
   "outputs": [
    {
     "name": "stderr",
     "output_type": "stream",
     "text": [
      "2023-02-17 21:07:07,216\tINFO worker.py:1538 -- Started a local Ray instance.\n"
     ]
    },
    {
     "data": {
      "text/html": [
       "<div class=\"tuneStatus\">\n",
       "  <div style=\"display: flex;flex-direction: row\">\n",
       "    <div style=\"display: flex;flex-direction: column;\">\n",
       "      <h3>Tune Status</h3>\n",
       "      <table>\n",
       "<tbody>\n",
       "<tr><td>Current time:</td><td>2023-02-17 21:07:15</td></tr>\n",
       "<tr><td>Running for: </td><td>00:00:05.41        </td></tr>\n",
       "<tr><td>Memory:      </td><td>26.7/32.0 GiB      </td></tr>\n",
       "</tbody>\n",
       "</table>\n",
       "    </div>\n",
       "    <div class=\"vDivider\"></div>\n",
       "    <div class=\"systemInfo\">\n",
       "      <h3>System Info</h3>\n",
       "      Using FIFO scheduling algorithm.<br>Resources requested: 0/10 CPUs, 0/0 GPUs, 0.0/25.28 GiB heap, 0.0/2.0 GiB objects\n",
       "    </div>\n",
       "    \n",
       "  </div>\n",
       "  <div class=\"hDivider\"></div>\n",
       "  <div class=\"trialStatus\">\n",
       "    <h3>Trial Status</h3>\n",
       "    <table>\n",
       "<thead>\n",
       "<tr><th>Trial name           </th><th>status    </th><th>loc            </th><th style=\"text-align: right;\">    a</th><th style=\"text-align: right;\">  b</th><th style=\"text-align: right;\">  iter</th><th style=\"text-align: right;\">  total time (s)</th><th style=\"text-align: right;\">  score</th></tr>\n",
       "</thead>\n",
       "<tbody>\n",
       "<tr><td>objective_a849a_00000</td><td>TERMINATED</td><td>127.0.0.1:53966</td><td style=\"text-align: right;\">0.001</td><td style=\"text-align: right;\">  2</td><td style=\"text-align: right;\">     1</td><td style=\"text-align: right;\">     0.000184059</td><td style=\"text-align: right;\"> 2     </td></tr>\n",
       "<tr><td>objective_a849a_00001</td><td>TERMINATED</td><td>127.0.0.1:53972</td><td style=\"text-align: right;\">0.01 </td><td style=\"text-align: right;\">  3</td><td style=\"text-align: right;\">     1</td><td style=\"text-align: right;\">     9.29832e-05</td><td style=\"text-align: right;\"> 3.0001</td></tr>\n",
       "<tr><td>objective_a849a_00002</td><td>TERMINATED</td><td>127.0.0.1:53973</td><td style=\"text-align: right;\">0.1  </td><td style=\"text-align: right;\">  3</td><td style=\"text-align: right;\">     1</td><td style=\"text-align: right;\">     0.000142097</td><td style=\"text-align: right;\"> 3.01  </td></tr>\n",
       "<tr><td>objective_a849a_00003</td><td>TERMINATED</td><td>127.0.0.1:53974</td><td style=\"text-align: right;\">1    </td><td style=\"text-align: right;\">  3</td><td style=\"text-align: right;\">     1</td><td style=\"text-align: right;\">     0.000104904</td><td style=\"text-align: right;\"> 4     </td></tr>\n",
       "</tbody>\n",
       "</table>\n",
       "  </div>\n",
       "</div>\n",
       "<style>\n",
       ".tuneStatus {\n",
       "  color: var(--jp-ui-font-color1);\n",
       "}\n",
       ".tuneStatus .systemInfo {\n",
       "  display: flex;\n",
       "  flex-direction: column;\n",
       "}\n",
       ".tuneStatus td {\n",
       "  white-space: nowrap;\n",
       "}\n",
       ".tuneStatus .trialStatus {\n",
       "  display: flex;\n",
       "  flex-direction: column;\n",
       "}\n",
       ".tuneStatus h3 {\n",
       "  font-weight: bold;\n",
       "}\n",
       ".tuneStatus .hDivider {\n",
       "  border-bottom-width: var(--jp-border-width);\n",
       "  border-bottom-color: var(--jp-border-color0);\n",
       "  border-bottom-style: solid;\n",
       "}\n",
       ".tuneStatus .vDivider {\n",
       "  border-left-width: var(--jp-border-width);\n",
       "  border-left-color: var(--jp-border-color0);\n",
       "  border-left-style: solid;\n",
       "  margin: 0.5em 1em 0.5em 1em;\n",
       "}\n",
       "</style>\n"
      ],
      "text/plain": [
       "<IPython.core.display.HTML object>"
      ]
     },
     "metadata": {},
     "output_type": "display_data"
    },
    {
     "data": {
      "text/html": [
       "<div class=\"trialProgress\">\n",
       "  <h3>Trial Progress</h3>\n",
       "  <table>\n",
       "<thead>\n",
       "<tr><th>Trial name           </th><th>date               </th><th>done  </th><th>episodes_total  </th><th>experiment_id                   </th><th>experiment_tag  </th><th>hostname         </th><th style=\"text-align: right;\">  iterations_since_restore</th><th>node_ip  </th><th style=\"text-align: right;\">  pid</th><th style=\"text-align: right;\">  score</th><th style=\"text-align: right;\">  time_since_restore</th><th style=\"text-align: right;\">  time_this_iter_s</th><th style=\"text-align: right;\">  time_total_s</th><th style=\"text-align: right;\">  timestamp</th><th style=\"text-align: right;\">  timesteps_since_restore</th><th>timesteps_total  </th><th style=\"text-align: right;\">  training_iteration</th><th>trial_id   </th><th style=\"text-align: right;\">  warmup_time</th></tr>\n",
       "</thead>\n",
       "<tbody>\n",
       "<tr><td>objective_a849a_00000</td><td>2023-02-17_21-07-13</td><td>True  </td><td>                </td><td>9e104694e09944b5b67725bbad9e540a</td><td>0_a=0.0010,b=2  </td><td>MacBook-Pro.local</td><td style=\"text-align: right;\">                         1</td><td>127.0.0.1</td><td style=\"text-align: right;\">53966</td><td style=\"text-align: right;\"> 2     </td><td style=\"text-align: right;\">         0.000184059</td><td style=\"text-align: right;\">       0.000184059</td><td style=\"text-align: right;\">   0.000184059</td><td style=\"text-align: right;\"> 1676664433</td><td style=\"text-align: right;\">                        0</td><td>                 </td><td style=\"text-align: right;\">                   1</td><td>a849a_00000</td><td style=\"text-align: right;\">   0.00304198</td></tr>\n",
       "<tr><td>objective_a849a_00001</td><td>2023-02-17_21-07-15</td><td>True  </td><td>                </td><td>9b6e64dbcac9435d8037996c34480603</td><td>1_a=0.0100,b=3  </td><td>MacBook-Pro.local</td><td style=\"text-align: right;\">                         1</td><td>127.0.0.1</td><td style=\"text-align: right;\">53972</td><td style=\"text-align: right;\"> 3.0001</td><td style=\"text-align: right;\">         9.29832e-05</td><td style=\"text-align: right;\">       9.29832e-05</td><td style=\"text-align: right;\">   9.29832e-05</td><td style=\"text-align: right;\"> 1676664435</td><td style=\"text-align: right;\">                        0</td><td>                 </td><td style=\"text-align: right;\">                   1</td><td>a849a_00001</td><td style=\"text-align: right;\">   0.00257516</td></tr>\n",
       "<tr><td>objective_a849a_00002</td><td>2023-02-17_21-07-15</td><td>True  </td><td>                </td><td>5380fb311b4c4defbb95e057eecf401d</td><td>2_a=0.1000,b=3  </td><td>MacBook-Pro.local</td><td style=\"text-align: right;\">                         1</td><td>127.0.0.1</td><td style=\"text-align: right;\">53973</td><td style=\"text-align: right;\"> 3.01  </td><td style=\"text-align: right;\">         0.000142097</td><td style=\"text-align: right;\">       0.000142097</td><td style=\"text-align: right;\">   0.000142097</td><td style=\"text-align: right;\"> 1676664435</td><td style=\"text-align: right;\">                        0</td><td>                 </td><td style=\"text-align: right;\">                   1</td><td>a849a_00002</td><td style=\"text-align: right;\">   0.00274801</td></tr>\n",
       "<tr><td>objective_a849a_00003</td><td>2023-02-17_21-07-15</td><td>True  </td><td>                </td><td>7a6deee63061478fb3eb6e003ebdc639</td><td>3_a=1.0000,b=3  </td><td>MacBook-Pro.local</td><td style=\"text-align: right;\">                         1</td><td>127.0.0.1</td><td style=\"text-align: right;\">53974</td><td style=\"text-align: right;\"> 4     </td><td style=\"text-align: right;\">         0.000104904</td><td style=\"text-align: right;\">       0.000104904</td><td style=\"text-align: right;\">   0.000104904</td><td style=\"text-align: right;\"> 1676664435</td><td style=\"text-align: right;\">                        0</td><td>                 </td><td style=\"text-align: right;\">                   1</td><td>a849a_00003</td><td style=\"text-align: right;\">   0.00255704</td></tr>\n",
       "</tbody>\n",
       "</table>\n",
       "</div>\n",
       "<style>\n",
       ".trialProgress {\n",
       "  display: flex;\n",
       "  flex-direction: column;\n",
       "  color: var(--jp-ui-font-color1);\n",
       "}\n",
       ".trialProgress h3 {\n",
       "  font-weight: bold;\n",
       "}\n",
       ".trialProgress td {\n",
       "  white-space: nowrap;\n",
       "}\n",
       "</style>\n"
      ],
      "text/plain": [
       "<IPython.core.display.HTML object>"
      ]
     },
     "metadata": {},
     "output_type": "display_data"
    },
    {
     "name": "stderr",
     "output_type": "stream",
     "text": [
      "2023-02-17 21:07:15,985\tINFO tune.py:762 -- Total run time: 7.32 seconds (5.40 seconds for the tuning loop).\n"
     ]
    },
    {
     "name": "stdout",
     "output_type": "stream",
     "text": [
      "{'a': 0.001, 'b': 2}\n"
     ]
    }
   ],
   "source": [
    "from ray import tune\n",
    "\n",
    "# 1. Define an objective function.\n",
    "def objective(config):\n",
    "    score = config[\"a\"] ** 2 + config[\"b\"]\n",
    "    return {\"score\": score}\n",
    "\n",
    "\n",
    "# 2. Define a search space.\n",
    "search_space = {\n",
    "    \"a\": tune.grid_search([0.001, 0.01, 0.1, 1.0]),\n",
    "    \"b\": tune.choice([1, 2, 3]),\n",
    "}\n",
    "\n",
    "# 3. Start a Tune run and print the best result.\n",
    "tuner = tune.Tuner(objective, param_space=search_space)\n",
    "results = tuner.fit()\n",
    "print(results.get_best_result(metric=\"score\", mode=\"min\").config)"
   ]
  },
  {
   "cell_type": "code",
   "execution_count": 6,
   "id": "96ab24cf",
   "metadata": {},
   "outputs": [],
   "source": [
    "import argparse"
   ]
  },
  {
   "cell_type": "code",
   "execution_count": 8,
   "id": "b805ad21",
   "metadata": {},
   "outputs": [],
   "source": [
    "args = parser.parse_args(['--foo', 'FOO'])"
   ]
  },
  {
   "cell_type": "code",
   "execution_count": 12,
   "id": "c9e23bd7",
   "metadata": {},
   "outputs": [],
   "source": [
    "setattr(args, 'bar', 'food')"
   ]
  },
  {
   "cell_type": "code",
   "execution_count": 13,
   "id": "6c78014b",
   "metadata": {},
   "outputs": [
    {
     "data": {
      "text/plain": [
       "'food'"
      ]
     },
     "execution_count": 13,
     "metadata": {},
     "output_type": "execute_result"
    }
   ],
   "source": [
    "args.bar"
   ]
  },
  {
   "cell_type": "code",
   "execution_count": 14,
   "id": "14167846",
   "metadata": {},
   "outputs": [],
   "source": [
    "from filelock import FileLock"
   ]
  },
  {
   "cell_type": "code",
   "execution_count": null,
   "id": "b5c5799c",
   "metadata": {},
   "outputs": [],
   "source": []
  }
 ],
 "metadata": {
  "kernelspec": {
   "display_name": "Python 3 (ipykernel)",
   "language": "python",
   "name": "python3"
  },
  "language_info": {
   "codemirror_mode": {
    "name": "ipython",
    "version": 3
   },
   "file_extension": ".py",
   "mimetype": "text/x-python",
   "name": "python",
   "nbconvert_exporter": "python",
   "pygments_lexer": "ipython3",
   "version": "3.9.16"
  }
 },
 "nbformat": 4,
 "nbformat_minor": 5
}
