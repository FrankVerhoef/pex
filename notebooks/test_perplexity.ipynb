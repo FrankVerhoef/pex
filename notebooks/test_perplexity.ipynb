{
 "cells": [
  {
   "cell_type": "code",
   "execution_count": 1,
   "metadata": {},
   "outputs": [],
   "source": [
    "import torch\n",
    "from torchmetrics.text.perplexity import Perplexity\n",
    "from torchmetrics.functional.text.perplexity import perplexity\n",
    "from torch.nn.functional import nll_loss, log_softmax"
   ]
  },
  {
   "cell_type": "code",
   "execution_count": 2,
   "metadata": {},
   "outputs": [
    {
     "data": {
      "text/plain": [
       "(tensor([[[1.0000, 0.0000, 0.0000, 0.0000],\n",
       "          [1.0000, 0.0000, 0.0000, 0.0000]],\n",
       " \n",
       "         [[0.2500, 0.2500, 0.2500, 0.2500],\n",
       "          [0.5000, 0.5000, 0.0000, 0.0000]]]),\n",
       " tensor([[0, 0],\n",
       "         [1, 1]]))"
      ]
     },
     "execution_count": 2,
     "metadata": {},
     "output_type": "execute_result"
    }
   ],
   "source": [
    "test_logits = torch.tensor([\n",
    "    [[1.0, 0, 0, 0], [1.0, 0, 0, 0]],\n",
    "    [[0.25, 0.25, 0.25, 0.25], [0.5, 0.5, 0, 0]]\n",
    "])\n",
    "targets = torch.tensor([\n",
    "    [0, 0], \n",
    "    [1, 1]\n",
    "])\n",
    "test_logits, targets"
   ]
  },
  {
   "cell_type": "code",
   "execution_count": 3,
   "metadata": {},
   "outputs": [
    {
     "name": "stdout",
     "output_type": "stream",
     "text": [
      "tensor(90.0270) tensor(4.5001)\n",
      "tensor(1.) tensor(0.)\n",
      "tensor(8104.8613) tensor(9.0002)\n",
      "tensor(0.)\n",
      "tensor(9.0002)\n"
     ]
    }
   ],
   "source": [
    "test_logits = torch.tensor([\n",
    "    [[1.0, 0, 0, 0], [1.0, 0, 0, 0]],\n",
    "    [[0.25, 0.25, 0.25, 0.25], [0.5, 0.5, 0, 0]]\n",
    "])\n",
    "targets = torch.tensor([\n",
    "    [0, 0], \n",
    "    [1, 1]\n",
    "])\n",
    "l = torch.tensor([\n",
    "    [[100.0, 0.0, 10.0, 0.1]],\n",
    "    [[10, 1.0, 0.0, 0.1]]\n",
    "])\n",
    "t = targets = torch.tensor([\n",
    "    [0],\n",
    "    [1] \n",
    "])\n",
    "# perplexity(test_logits[0].view(1, 2,4), targets[0].view(1,2))\n",
    "print(perplexity(l, t), nll_loss(log_softmax(l, dim=-1).permute(0,2,1), t))\n",
    "print(perplexity(l[0].view(1,1,4), t[0].view(1,1)), nll_loss(log_softmax(l[0].view(1,1,4), dim=-1).permute(0,2,1), t[0].view(1,1)))\n",
    "print(perplexity(l[1].view(1,1,4), t[1].view(1,1)), nll_loss(log_softmax(l[1].view(1,1,4), dim=-1).permute(0,2,1), t[1].view(1,1)))\n",
    "print(torch.nn.functional.cross_entropy(l[0].view(1,1,4).permute(0,2,1), t[0].view(1,1)))\n",
    "print(torch.nn.functional.cross_entropy(l[1].view(1,1,4).permute(0,2,1), t[1].view(1,1)))"
   ]
  },
  {
   "cell_type": "code",
   "execution_count": 4,
   "metadata": {},
   "outputs": [
    {
     "data": {
      "text/plain": [
       "torch.Size([2, 4, 1])"
      ]
     },
     "execution_count": 4,
     "metadata": {},
     "output_type": "execute_result"
    }
   ],
   "source": [
    "l.permute(0,2,1).shape"
   ]
  },
  {
   "cell_type": "code",
   "execution_count": 5,
   "metadata": {},
   "outputs": [
    {
     "data": {
      "text/plain": [
       "tensor([[[100.0000,   0.0000,  10.0000,   0.1000]]])"
      ]
     },
     "execution_count": 5,
     "metadata": {},
     "output_type": "execute_result"
    }
   ],
   "source": [
    "l[0].unsqueeze(0)"
   ]
  },
  {
   "cell_type": "code",
   "execution_count": 6,
   "metadata": {},
   "outputs": [
    {
     "data": {
      "text/plain": [
       "(tensor([[1., 0., 0., 0.],\n",
       "         [1., 0., 0., 0.]]),\n",
       " tensor([0]))"
      ]
     },
     "execution_count": 6,
     "metadata": {},
     "output_type": "execute_result"
    }
   ],
   "source": [
    "test_logits[0], targets[0]"
   ]
  },
  {
   "cell_type": "code",
   "execution_count": 7,
   "metadata": {},
   "outputs": [],
   "source": [
    "ppl = Perplexity()"
   ]
  },
  {
   "cell_type": "code",
   "execution_count": 8,
   "metadata": {},
   "outputs": [
    {
     "data": {
      "text/plain": [
       "(tensor([[[40., 40.]],\n",
       " \n",
       "         [[10.,  0.]]]),\n",
       " tensor([[0],\n",
       "         [0]]))"
      ]
     },
     "execution_count": 8,
     "metadata": {},
     "output_type": "execute_result"
    }
   ],
   "source": [
    "test_logits = torch.tensor([\n",
    "    [[40.0, 40]],\n",
    "    [[10, 0]]\n",
    "])\n",
    "targets = torch.tensor([\n",
    "    [0], \n",
    "    [0]\n",
    "\n",
    "])\n",
    "test_logits, targets"
   ]
  },
  {
   "cell_type": "code",
   "execution_count": 9,
   "metadata": {},
   "outputs": [
    {
     "data": {
      "text/plain": [
       "tensor(1.4142)"
      ]
     },
     "execution_count": 9,
     "metadata": {},
     "output_type": "execute_result"
    }
   ],
   "source": [
    "ppl(test_logits, targets)"
   ]
  },
  {
   "cell_type": "code",
   "execution_count": 10,
   "metadata": {},
   "outputs": [
    {
     "data": {
      "text/plain": [
       "tensor(1.4142)"
      ]
     },
     "execution_count": 10,
     "metadata": {},
     "output_type": "execute_result"
    }
   ],
   "source": [
    "ppl.compute()"
   ]
  },
  {
   "cell_type": "code",
   "execution_count": 11,
   "metadata": {},
   "outputs": [],
   "source": [
    "ppl.reset()"
   ]
  },
  {
   "cell_type": "code",
   "execution_count": null,
   "metadata": {},
   "outputs": [],
   "source": []
  }
 ],
 "metadata": {
  "kernelspec": {
   "display_name": "pex",
   "language": "python",
   "name": "python3"
  },
  "language_info": {
   "codemirror_mode": {
    "name": "ipython",
    "version": 3
   },
   "file_extension": ".py",
   "mimetype": "text/x-python",
   "name": "python",
   "nbconvert_exporter": "python",
   "pygments_lexer": "ipython3",
   "version": "3.9.16"
  },
  "orig_nbformat": 4
 },
 "nbformat": 4,
 "nbformat_minor": 2
}
