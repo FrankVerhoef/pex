{
 "cells": [
  {
   "cell_type": "code",
   "execution_count": 4,
   "metadata": {},
   "outputs": [],
   "source": [
    "from torcheval.metrics.functional import bleu_score"
   ]
  },
  {
   "cell_type": "code",
   "execution_count": 51,
   "metadata": {},
   "outputs": [
    {
     "ename": "ValueError",
     "evalue": "the input is too short to find all n-gram matches with n_gram=2",
     "output_type": "error",
     "traceback": [
      "\u001b[0;31m---------------------------------------------------------------------------\u001b[0m",
      "\u001b[0;31mValueError\u001b[0m                                Traceback (most recent call last)",
      "Cell \u001b[0;32mIn[51], line 4\u001b[0m\n\u001b[1;32m      2\u001b[0m target \u001b[39m=\u001b[39m [[\u001b[39m'\u001b[39m\u001b[39m<nofact>\u001b[39m\u001b[39m'\u001b[39m]]\n\u001b[1;32m      3\u001b[0m \u001b[39m# target = [['there is a cat on the mat', 'a cat is on the mat']]\u001b[39;00m\n\u001b[0;32m----> 4\u001b[0m bleu_score(preds, target, n_gram\u001b[39m=\u001b[39;49m\u001b[39m2\u001b[39;49m)\n",
      "File \u001b[0;32m~/opt/miniconda3/envs/pex/lib/python3.9/site-packages/torcheval/metrics/functional/text/bleu.py:48\u001b[0m, in \u001b[0;36mbleu_score\u001b[0;34m(input, target, n_gram, weights, device)\u001b[0m\n\u001b[1;32m     13\u001b[0m \u001b[39mdef\u001b[39;00m \u001b[39mbleu_score\u001b[39m(\n\u001b[1;32m     14\u001b[0m     \u001b[39minput\u001b[39m: Union[\u001b[39mstr\u001b[39m, Sequence[\u001b[39mstr\u001b[39m]],\n\u001b[1;32m     15\u001b[0m     target: Sequence[Union[\u001b[39mstr\u001b[39m, Sequence[\u001b[39mstr\u001b[39m]]],\n\u001b[0;32m   (...)\u001b[0m\n\u001b[1;32m     18\u001b[0m     device: Optional[torch\u001b[39m.\u001b[39mdevice] \u001b[39m=\u001b[39m \u001b[39mNone\u001b[39;00m,\n\u001b[1;32m     19\u001b[0m ) \u001b[39m-\u001b[39m\u001b[39m>\u001b[39m torch\u001b[39m.\u001b[39mTensor:\n\u001b[1;32m     20\u001b[0m \u001b[39m    \u001b[39m\u001b[39m\"\"\"\u001b[39;00m\n\u001b[1;32m     21\u001b[0m \u001b[39m    Compute BLEU score given translations and references for each translation.\u001b[39;00m\n\u001b[1;32m     22\u001b[0m \u001b[39m    Its class version is ``torcheval.metrics.texBLEUScore``.\u001b[39;00m\n\u001b[0;32m   (...)\u001b[0m\n\u001b[1;32m     41\u001b[0m \u001b[39m            tensor(0.65341892)\u001b[39;00m\n\u001b[1;32m     42\u001b[0m \u001b[39m    \"\"\"\u001b[39;00m\n\u001b[1;32m     43\u001b[0m     (\n\u001b[1;32m     44\u001b[0m         input_len,\n\u001b[1;32m     45\u001b[0m         target_len,\n\u001b[1;32m     46\u001b[0m         matches_by_order,\n\u001b[1;32m     47\u001b[0m         possible_matches_by_order,\n\u001b[0;32m---> 48\u001b[0m     ) \u001b[39m=\u001b[39m _bleu_score_update(\n\u001b[1;32m     49\u001b[0m         \u001b[39minput\u001b[39;49m,\n\u001b[1;32m     50\u001b[0m         target,\n\u001b[1;32m     51\u001b[0m         n_gram,\n\u001b[1;32m     52\u001b[0m         device,\n\u001b[1;32m     53\u001b[0m     )\n\u001b[1;32m     55\u001b[0m     \u001b[39mreturn\u001b[39;00m _bleu_score_compute(\n\u001b[1;32m     56\u001b[0m         input_len,\n\u001b[1;32m     57\u001b[0m         target_len,\n\u001b[0;32m   (...)\u001b[0m\n\u001b[1;32m     61\u001b[0m         weights,\n\u001b[1;32m     62\u001b[0m     )\n",
      "File \u001b[0;32m~/opt/miniconda3/envs/pex/lib/python3.9/site-packages/torcheval/metrics/functional/text/bleu.py:107\u001b[0m, in \u001b[0;36m_bleu_score_update\u001b[0;34m(input, target, n_gram, device)\u001b[0m\n\u001b[1;32m    104\u001b[0m             possible_matches_by_order[i] \u001b[39m+\u001b[39m\u001b[39m=\u001b[39m len_candidate \u001b[39m-\u001b[39m i\n\u001b[1;32m    106\u001b[0m \u001b[39mif\u001b[39;00m torch\u001b[39m.\u001b[39mmin(possible_matches_by_order) \u001b[39m==\u001b[39m \u001b[39m0\u001b[39m:\n\u001b[0;32m--> 107\u001b[0m     \u001b[39mraise\u001b[39;00m \u001b[39mValueError\u001b[39;00m(\n\u001b[1;32m    108\u001b[0m         \u001b[39mf\u001b[39m\u001b[39m\"\u001b[39m\u001b[39mthe input is too short to find all n-gram matches with n_gram=\u001b[39m\u001b[39m{\u001b[39;00mn_gram\u001b[39m}\u001b[39;00m\u001b[39m\"\u001b[39m\n\u001b[1;32m    109\u001b[0m     )\n\u001b[1;32m    111\u001b[0m \u001b[39mreturn\u001b[39;00m input_len, target_len, matches_by_order, possible_matches_by_order\n",
      "\u001b[0;31mValueError\u001b[0m: the input is too short to find all n-gram matches with n_gram=2"
     ]
    }
   ],
   "source": [
    "preds = ['<nofact>']\n",
    "target = [['<nofact>']]\n",
    "# target = [['there is a cat on the mat', 'a cat is on the mat']]\n",
    "bleu_score(preds, target, n_gram=2)"
   ]
  },
  {
   "cell_type": "code",
   "execution_count": null,
   "metadata": {},
   "outputs": [],
   "source": []
  }
 ],
 "metadata": {
  "kernelspec": {
   "display_name": "pex",
   "language": "python",
   "name": "python3"
  },
  "language_info": {
   "codemirror_mode": {
    "name": "ipython",
    "version": 3
   },
   "file_extension": ".py",
   "mimetype": "text/x-python",
   "name": "python",
   "nbconvert_exporter": "python",
   "pygments_lexer": "ipython3",
   "version": "3.9.16"
  },
  "orig_nbformat": 4
 },
 "nbformat": 4,
 "nbformat_minor": 2
}
