{
 "cells": [
  {
   "cell_type": "code",
   "execution_count": 1,
   "id": "6c2f1323",
   "metadata": {},
   "outputs": [],
   "source": [
    "from transformers import BartForConditionalGeneration, BartModel\n",
    "from transformers import AutoTokenizer\n",
    "from transformers import GenerationConfig\n",
    "from transformers.models.bart.modeling_bart import shift_tokens_right\n",
    "import torch"
   ]
  },
  {
   "cell_type": "code",
   "execution_count": 23,
   "id": "22b70339",
   "metadata": {},
   "outputs": [],
   "source": [
    "bart = BartForConditionalGeneration.from_pretrained(\"facebook/bart-base\")"
   ]
  },
  {
   "cell_type": "code",
   "execution_count": null,
   "id": "be9ba871",
   "metadata": {},
   "outputs": [],
   "source": [
    "tokenizer = AutoTokenizer.from_pretrained(\"facebook/bart-base\")"
   ]
  },
  {
   "cell_type": "code",
   "execution_count": 40,
   "id": "78380465",
   "metadata": {},
   "outputs": [
    {
     "data": {
      "text/plain": [
       "BartConfig {\n",
       "  \"_name_or_path\": \"facebook/bart-large-cnn\",\n",
       "  \"_num_labels\": 3,\n",
       "  \"activation_dropout\": 0.0,\n",
       "  \"activation_function\": \"gelu\",\n",
       "  \"add_final_layer_norm\": false,\n",
       "  \"architectures\": [\n",
       "    \"BartForConditionalGeneration\"\n",
       "  ],\n",
       "  \"attention_dropout\": 0.0,\n",
       "  \"bos_token_id\": 0,\n",
       "  \"classif_dropout\": 0.0,\n",
       "  \"classifier_dropout\": 0.0,\n",
       "  \"d_model\": 1024,\n",
       "  \"decoder_attention_heads\": 16,\n",
       "  \"decoder_ffn_dim\": 4096,\n",
       "  \"decoder_layerdrop\": 0.0,\n",
       "  \"decoder_layers\": 12,\n",
       "  \"decoder_start_token_id\": 2,\n",
       "  \"dropout\": 0.1,\n",
       "  \"early_stopping\": true,\n",
       "  \"encoder_attention_heads\": 16,\n",
       "  \"encoder_ffn_dim\": 4096,\n",
       "  \"encoder_layerdrop\": 0.0,\n",
       "  \"encoder_layers\": 12,\n",
       "  \"eos_token_id\": 2,\n",
       "  \"force_bos_token_to_be_generated\": true,\n",
       "  \"forced_bos_token_id\": 0,\n",
       "  \"forced_eos_token_id\": 2,\n",
       "  \"gradient_checkpointing\": false,\n",
       "  \"id2label\": {\n",
       "    \"0\": \"LABEL_0\",\n",
       "    \"1\": \"LABEL_1\",\n",
       "    \"2\": \"LABEL_2\"\n",
       "  },\n",
       "  \"init_std\": 0.02,\n",
       "  \"is_encoder_decoder\": true,\n",
       "  \"label2id\": {\n",
       "    \"LABEL_0\": 0,\n",
       "    \"LABEL_1\": 1,\n",
       "    \"LABEL_2\": 2\n",
       "  },\n",
       "  \"length_penalty\": 2.0,\n",
       "  \"max_length\": 142,\n",
       "  \"max_position_embeddings\": 1024,\n",
       "  \"min_length\": 56,\n",
       "  \"model_type\": \"bart\",\n",
       "  \"no_repeat_ngram_size\": 3,\n",
       "  \"normalize_before\": false,\n",
       "  \"num_beams\": 4,\n",
       "  \"num_hidden_layers\": 12,\n",
       "  \"output_past\": true,\n",
       "  \"pad_token_id\": 1,\n",
       "  \"prefix\": \" \",\n",
       "  \"scale_embedding\": false,\n",
       "  \"task_specific_params\": {\n",
       "    \"summarization\": {\n",
       "      \"early_stopping\": true,\n",
       "      \"length_penalty\": 2.0,\n",
       "      \"max_length\": 142,\n",
       "      \"min_length\": 56,\n",
       "      \"no_repeat_ngram_size\": 3,\n",
       "      \"num_beams\": 4\n",
       "    }\n",
       "  },\n",
       "  \"transformers_version\": \"4.26.1\",\n",
       "  \"use_cache\": true,\n",
       "  \"vocab_size\": 50268\n",
       "}"
      ]
     },
     "execution_count": 40,
     "metadata": {},
     "output_type": "execute_result"
    }
   ],
   "source": [
    "model.bart.config"
   ]
  },
  {
   "cell_type": "code",
   "execution_count": 41,
   "id": "9e941b37",
   "metadata": {},
   "outputs": [
    {
     "data": {
      "text/plain": [
       "BartForConditionalGeneration(\n",
       "  (model): BartModel(\n",
       "    (shared): Embedding(50268, 1024)\n",
       "    (encoder): BartEncoder(\n",
       "      (embed_tokens): Embedding(50268, 1024)\n",
       "      (embed_positions): BartLearnedPositionalEmbedding(1026, 1024)\n",
       "      (layers): ModuleList(\n",
       "        (0-11): 12 x BartEncoderLayer(\n",
       "          (self_attn): BartAttention(\n",
       "            (k_proj): Linear(in_features=1024, out_features=1024, bias=True)\n",
       "            (v_proj): Linear(in_features=1024, out_features=1024, bias=True)\n",
       "            (q_proj): Linear(in_features=1024, out_features=1024, bias=True)\n",
       "            (out_proj): Linear(in_features=1024, out_features=1024, bias=True)\n",
       "          )\n",
       "          (self_attn_layer_norm): LayerNorm((1024,), eps=1e-05, elementwise_affine=True)\n",
       "          (activation_fn): GELUActivation()\n",
       "          (fc1): Linear(in_features=1024, out_features=4096, bias=True)\n",
       "          (fc2): Linear(in_features=4096, out_features=1024, bias=True)\n",
       "          (final_layer_norm): LayerNorm((1024,), eps=1e-05, elementwise_affine=True)\n",
       "        )\n",
       "      )\n",
       "      (layernorm_embedding): LayerNorm((1024,), eps=1e-05, elementwise_affine=True)\n",
       "    )\n",
       "    (decoder): BartDecoder(\n",
       "      (embed_tokens): Embedding(50268, 1024)\n",
       "      (embed_positions): BartLearnedPositionalEmbedding(1026, 1024)\n",
       "      (layers): ModuleList(\n",
       "        (0-11): 12 x BartDecoderLayer(\n",
       "          (self_attn): BartAttention(\n",
       "            (k_proj): Linear(in_features=1024, out_features=1024, bias=True)\n",
       "            (v_proj): Linear(in_features=1024, out_features=1024, bias=True)\n",
       "            (q_proj): Linear(in_features=1024, out_features=1024, bias=True)\n",
       "            (out_proj): Linear(in_features=1024, out_features=1024, bias=True)\n",
       "          )\n",
       "          (activation_fn): GELUActivation()\n",
       "          (self_attn_layer_norm): LayerNorm((1024,), eps=1e-05, elementwise_affine=True)\n",
       "          (encoder_attn): BartAttention(\n",
       "            (k_proj): Linear(in_features=1024, out_features=1024, bias=True)\n",
       "            (v_proj): Linear(in_features=1024, out_features=1024, bias=True)\n",
       "            (q_proj): Linear(in_features=1024, out_features=1024, bias=True)\n",
       "            (out_proj): Linear(in_features=1024, out_features=1024, bias=True)\n",
       "          )\n",
       "          (encoder_attn_layer_norm): LayerNorm((1024,), eps=1e-05, elementwise_affine=True)\n",
       "          (fc1): Linear(in_features=1024, out_features=4096, bias=True)\n",
       "          (fc2): Linear(in_features=4096, out_features=1024, bias=True)\n",
       "          (final_layer_norm): LayerNorm((1024,), eps=1e-05, elementwise_affine=True)\n",
       "        )\n",
       "      )\n",
       "      (layernorm_embedding): LayerNorm((1024,), eps=1e-05, elementwise_affine=True)\n",
       "    )\n",
       "  )\n",
       "  (lm_head): Linear(in_features=1024, out_features=50268, bias=False)\n",
       ")"
      ]
     },
     "execution_count": 41,
     "metadata": {},
     "output_type": "execute_result"
    }
   ],
   "source": [
    "model.bart"
   ]
  },
  {
   "cell_type": "code",
   "execution_count": null,
   "id": "f6a7f252",
   "metadata": {},
   "outputs": [],
   "source": [
    "bart.state_dict().keys()"
   ]
  },
  {
   "cell_type": "code",
   "execution_count": null,
   "id": "e563f8de",
   "metadata": {},
   "outputs": [],
   "source": [
    "tokenizer"
   ]
  },
  {
   "cell_type": "code",
   "execution_count": null,
   "id": "30e8a06f",
   "metadata": {},
   "outputs": [],
   "source": [
    "s1 = \"\"\n",
    "s2 = \"this is sentence two\"\n",
    "s3 = \"there are two sentences\"\n",
    "long1 = \"this is somewhat longer sentence one\"\n",
    "long2 = \"this is somewhat longer sentence two. It has a second sentence that add nothing. Really nothing. It could be summarized with one word: nothing\"\n",
    "long3 = \"there are also somewhat longer sentences\""
   ]
  },
  {
   "cell_type": "code",
   "execution_count": null,
   "id": "e4bcab81",
   "metadata": {},
   "outputs": [],
   "source": [
    "i1 = tokenizer(s1, return_tensors=\"pt\")\n",
    "i2 = tokenizer(s2, return_tensors=\"pt\")\n",
    "i3 = tokenizer(s1, s2, return_tensors=\"pt\")\n",
    "i3_solo = tokenizer(s3, return_tensors=\"pt\")"
   ]
  },
  {
   "cell_type": "code",
   "execution_count": null,
   "id": "5561bf27",
   "metadata": {},
   "outputs": [],
   "source": [
    "# Tokenizing two sentences connects them together, with <eos> <eos> between them\n",
    "\n",
    "i1, i2, i3, i3_solo"
   ]
  },
  {
   "cell_type": "code",
   "execution_count": null,
   "id": "1266108c",
   "metadata": {},
   "outputs": [],
   "source": [
    "encoded = tokenizer([s1, long1], [s2, long2], text_target=[s3, long3], padding=True, return_tensors='pt')"
   ]
  },
  {
   "cell_type": "code",
   "execution_count": null,
   "id": "cb056181",
   "metadata": {},
   "outputs": [],
   "source": [
    "encoded = tokenizer([long1, long2, long3], text_target=[s1, s2, s3], padding=True, return_tensors='pt')"
   ]
  },
  {
   "cell_type": "code",
   "execution_count": null,
   "id": "1fec694d",
   "metadata": {},
   "outputs": [],
   "source": [
    "encoded"
   ]
  },
  {
   "cell_type": "code",
   "execution_count": null,
   "id": "f5e09697",
   "metadata": {},
   "outputs": [],
   "source": [
    "out = bart(encoded['input_ids'], encoded['attention_mask'])"
   ]
  },
  {
   "cell_type": "code",
   "execution_count": null,
   "id": "83608510",
   "metadata": {},
   "outputs": [],
   "source": [
    "gen_out = bart.generate(encoded['input_ids'], max_new_tokens=30)"
   ]
  },
  {
   "cell_type": "code",
   "execution_count": null,
   "id": "f6e9b93a",
   "metadata": {},
   "outputs": [],
   "source": [
    "gen_out"
   ]
  },
  {
   "cell_type": "code",
   "execution_count": null,
   "id": "6a0a099f",
   "metadata": {},
   "outputs": [],
   "source": [
    "tokenizer.batch_decode(gen_out)"
   ]
  },
  {
   "cell_type": "code",
   "execution_count": null,
   "id": "5354209a",
   "metadata": {},
   "outputs": [],
   "source": [
    "out.logits.shape"
   ]
  },
  {
   "cell_type": "code",
   "execution_count": null,
   "id": "06a37453",
   "metadata": {},
   "outputs": [],
   "source": [
    "encoded['input_ids'].shape"
   ]
  },
  {
   "cell_type": "code",
   "execution_count": null,
   "id": "1c672750",
   "metadata": {},
   "outputs": [],
   "source": [
    "tokenizer.batch_decode(encoded['labels'])"
   ]
  },
  {
   "cell_type": "code",
   "execution_count": null,
   "id": "fa36217d",
   "metadata": {},
   "outputs": [],
   "source": [
    "shift_tokens_right(input_ids=i1['input_ids'], pad_token_id=99, decoder_start_token_id=100)"
   ]
  },
  {
   "cell_type": "code",
   "execution_count": null,
   "id": "f394ea41",
   "metadata": {},
   "outputs": [],
   "source": [
    "out = bart(**encoded)"
   ]
  },
  {
   "cell_type": "code",
   "execution_count": null,
   "id": "cfe14db7",
   "metadata": {},
   "outputs": [],
   "source": [
    "out.logits.shape"
   ]
  },
  {
   "cell_type": "code",
   "execution_count": null,
   "id": "b619b7e7",
   "metadata": {},
   "outputs": [],
   "source": [
    "out.logits[0].shape"
   ]
  },
  {
   "cell_type": "code",
   "execution_count": null,
   "id": "eea282bd",
   "metadata": {},
   "outputs": [],
   "source": [
    "tokenizer.batch_decode(out.logits.argmax(dim=-1))"
   ]
  },
  {
   "cell_type": "code",
   "execution_count": 3,
   "id": "590fea17",
   "metadata": {},
   "outputs": [],
   "source": [
    "from models.bart_extractor import BartExtractor, ConditionalFactLoss\n",
    "from torcheval.metrics.functional import binary_confusion_matrix, binary_accuracy, binary_f1_score, bleu_score\n",
    "from dataset.msc_summary_tf import MSC_Turns, PERSONA_TOKENS, NO_FACT_TOKEN"
   ]
  },
  {
   "cell_type": "code",
   "execution_count": 4,
   "id": "6dec601f",
   "metadata": {},
   "outputs": [
    {
     "name": "stderr",
     "output_type": "stream",
     "text": [
      "Special tokens have been added in the vocabulary, make sure the associated word embeddings are fine-tuned or trained.\n"
     ]
    }
   ],
   "source": [
    "tokenizer = AutoTokenizer.from_pretrained('facebook/bart-large-cnn', additional_special_tokens=[NO_FACT_TOKEN])\n",
    "tokenizer.add_special_tokens({'additional_special_tokens': PERSONA_TOKENS})\n",
    "vocab_size = tokenizer.vocab_size\n",
    "pad_token_id = tokenizer.pad_token_id\n",
    "start_token_id = tokenizer.eos_token_id\n",
    "nofact_token_id = tokenizer.convert_tokens_to_ids(NO_FACT_TOKEN)\n",
    "model = BartExtractor(\"facebook/bart-large-cnn\", nofact_token_id=nofact_token_id)\n",
    "# model = BartExtractor(nofact_token_id=nofact_token_id)\n",
    "model.bart.resize_token_embeddings(len(tokenizer))\n",
    "criterion = ConditionalFactLoss(nofact_token_id=nofact_token_id, ignore_index=tokenizer.pad_token_id)"
   ]
  },
  {
   "cell_type": "code",
   "execution_count": 5,
   "id": "4e78f711",
   "metadata": {},
   "outputs": [
    {
     "data": {
      "text/plain": [
       "<All keys matched successfully>"
      ]
     },
     "execution_count": 5,
     "metadata": {},
     "output_type": "execute_result"
    }
   ],
   "source": [
    "model.load_state_dict(torch.load(\"checkpoints/testbart\"))"
   ]
  },
  {
   "cell_type": "code",
   "execution_count": 12,
   "id": "e8ae3ad1",
   "metadata": {},
   "outputs": [],
   "source": [
    "utterance = tokenizer(\"<self> Do you have hobbies. <other> Yes, I like to read books\", text_target=\"I like to read books\", return_tensors=\"pt\")"
   ]
  },
  {
   "cell_type": "code",
   "execution_count": 16,
   "id": "bb4ba278",
   "metadata": {},
   "outputs": [],
   "source": [
    "utterance = tokenizer(\"<self> Do you have hobbies. <other> Haha hobbies, why do you ask?\", text_target=\"<nofact>\", return_tensors=\"pt\")"
   ]
  },
  {
   "cell_type": "code",
   "execution_count": null,
   "id": "84a9e5a9",
   "metadata": {},
   "outputs": [],
   "source": [
    "ARTICLE_TO_SUMMARIZE = (\n",
    "    \"I said Do you have hobbies. You said Yes, I like reading about PG&E \"\n",
    "    \"PG&E stated it scheduled the blackouts in response to forecasts for high winds \"\n",
    "    \"amid dry conditions. The aim is to reduce the risk of wildfires. Nearly 800 thousand customers were \"\n",
    "    \"scheduled to be affected by the shutoffs which were expected to last through at least midday tomorrow.\"\n",
    ")\n",
    "article = tokenizer([ARTICLE_TO_SUMMARIZE], max_length=1024, truncation=True, return_tensors=\"pt\")"
   ]
  },
  {
   "cell_type": "code",
   "execution_count": null,
   "id": "0e832bd2",
   "metadata": {},
   "outputs": [],
   "source": [
    "gen_config = GenerationConfig(\n",
    "    min_new_tokens=2,\n",
    "    max_new_tokens=20,\n",
    "    early_stopping=True,\n",
    "    no_repeat_ngram_size=3,\n",
    "    num_beams=4,\n",
    ")"
   ]
  },
  {
   "cell_type": "code",
   "execution_count": 33,
   "id": "4a768a48",
   "metadata": {},
   "outputs": [
    {
     "data": {
      "text/plain": [
       "'</s><s><nofact>ms. </s>'"
      ]
     },
     "execution_count": 33,
     "metadata": {},
     "output_type": "execute_result"
    }
   ],
   "source": [
    "gen_out = model.bart.generate(\n",
    "    input_ids=utterance[\"input_ids\"],\n",
    "    min_length=1,\n",
    "    max_new_tokens=100,\n",
    "    num_beams=1,\n",
    "    do_sample=False,\n",
    "    return_dict_in_generate=True, \n",
    "    output_hidden_states=True,\n",
    "    # decoder_start_token_id=model.bart.config.eos_token_id,\n",
    "    # generation_config=model.gen_config\n",
    ")\n",
    "tokenizer.batch_decode(gen_out['sequences'], skip_special_tokens=False, clean_up_tokenization_spaces=False)[0]"
   ]
  },
  {
   "cell_type": "code",
   "execution_count": null,
   "id": "811348e2",
   "metadata": {},
   "outputs": [],
   "source": [
    "out = model.bart(utterance['input_ids'], utterance['attention_mask'], labels=utterance['labels'], return_dict=True)\n",
    "pred = out.logits.argmax(dim=-1)\n",
    "print(torch.nn.functional.log_softmax(out.logits, dim=-1))\n",
    "print(torch.nn.functional.log_softmax(out.logits, dim=-1).argmax(dim=-1))"
   ]
  },
  {
   "cell_type": "code",
   "execution_count": null,
   "id": "e815cc91",
   "metadata": {},
   "outputs": [],
   "source": [
    "out = model(utterance['input_ids'], utterance['attention_mask'], labels=utterance['labels'])\n",
    "pred = out.argmax(dim=-1)\n",
    "print(out)\n",
    "print(out.argmax(dim=-1))"
   ]
  },
  {
   "cell_type": "code",
   "execution_count": null,
   "id": "2c94a88c",
   "metadata": {},
   "outputs": [],
   "source": [
    "tokenizer.batch_decode(gen_out)"
   ]
  },
  {
   "cell_type": "code",
   "execution_count": null,
   "id": "d06fc584",
   "metadata": {},
   "outputs": [],
   "source": [
    "print(\"Sequences shape: \", gen_out['sequences'].shape)\n",
    "print(\"Len scores: \", len(gen_out['scores']))\n",
    "for i in range(5):\n",
    "    top_3 = torch.topk(gen_out['scores'][i], 3)\n",
    "    print(\"Top-3 scores token: \", i, top_3[0], top_3[1], tokenizer.batch_decode(top_3[1]))\n",
    "print(\"First 5 tokens: \", gen_out['sequences'][0][:5])"
   ]
  },
  {
   "cell_type": "code",
   "execution_count": null,
   "id": "4521c1fb",
   "metadata": {},
   "outputs": [],
   "source": [
    "print(\"Sequences shape: \", gen_out['sequences'].shape)\n",
    "print(\"Len scores: \", len(gen_out['scores']))\n",
    "for i in range(5):\n",
    "    top_3 = torch.topk(gen_out['scores'][i], 3)\n",
    "    print(\"Top-3 scores token: \", i, top_3[0], top_3[1], tokenizer.batch_decode(top_3[1]))\n",
    "print(\"First 5 tokens: \", gen_out['sequences'][0][:5])"
   ]
  },
  {
   "cell_type": "code",
   "execution_count": 45,
   "id": "8574f596",
   "metadata": {},
   "outputs": [
    {
     "data": {
      "text/plain": [
       "odict_keys(['sequences', 'encoder_hidden_states', 'decoder_hidden_states'])"
      ]
     },
     "execution_count": 45,
     "metadata": {},
     "output_type": "execute_result"
    }
   ],
   "source": [
    "gen_out.keys()"
   ]
  },
  {
   "cell_type": "code",
   "execution_count": 59,
   "id": "67f390be",
   "metadata": {},
   "outputs": [
    {
     "data": {
      "text/plain": [
       "tensor([[[-0.0037,  0.0167,  0.0071,  ..., -0.0065, -0.0039, -0.0051],\n",
       "         [ 0.0450, -0.5656, -0.4305,  ...,  0.2543,  0.1213, -0.1198],\n",
       "         [-0.0028, -0.2634, -0.1611,  ...,  0.1413, -0.0065, -0.0026],\n",
       "         ...,\n",
       "         [-0.0129, -0.1998, -0.3211,  ...,  0.1231, -0.1728, -0.1337],\n",
       "         [-0.0037,  0.0167,  0.0071,  ..., -0.0065, -0.0039, -0.0051],\n",
       "         [ 0.0167,  0.1341, -0.0137,  ...,  0.0768, -0.0905,  0.0581]]])"
      ]
     },
     "execution_count": 59,
     "metadata": {},
     "output_type": "execute_result"
    }
   ],
   "source": [
    "gen_out.encoder_hidden_states[-1]"
   ]
  },
  {
   "cell_type": "code",
   "execution_count": null,
   "id": "7ccc7fbf",
   "metadata": {},
   "outputs": [],
   "source": [
    "pred = out.logits.argmax(dim=-1)"
   ]
  },
  {
   "cell_type": "code",
   "execution_count": null,
   "id": "1a76dd7a",
   "metadata": {},
   "outputs": [],
   "source": [
    "pred"
   ]
  },
  {
   "cell_type": "code",
   "execution_count": null,
   "id": "81a87537",
   "metadata": {},
   "outputs": [],
   "source": [
    "tokenizer.batch_decode(pred)"
   ]
  },
  {
   "cell_type": "code",
   "execution_count": 44,
   "id": "a3d19b90",
   "metadata": {},
   "outputs": [
    {
     "data": {
      "text/plain": [
       "tensor([[    0, 50266,  1832,    47,    33, 36365,     4,  1437, 50267,   289,\n",
       "         11695, 36365,     6,   596,   109,    47,  1394,   116,     2]])"
      ]
     },
     "execution_count": 44,
     "metadata": {},
     "output_type": "execute_result"
    }
   ],
   "source": [
    "utterance['input_ids']"
   ]
  },
  {
   "cell_type": "code",
   "execution_count": null,
   "id": "a859c762",
   "metadata": {},
   "outputs": [],
   "source": [
    "utterance['labels']"
   ]
  },
  {
   "cell_type": "code",
   "execution_count": 60,
   "id": "19aee984",
   "metadata": {},
   "outputs": [
    {
     "data": {
      "text/plain": [
       "tensor([[[-0.0037,  0.0167,  0.0071,  ..., -0.0065, -0.0039, -0.0051],\n",
       "         [ 0.0450, -0.5656, -0.4305,  ...,  0.2543,  0.1213, -0.1198],\n",
       "         [-0.0028, -0.2634, -0.1611,  ...,  0.1413, -0.0065, -0.0026],\n",
       "         ...,\n",
       "         [-0.0129, -0.1998, -0.3211,  ...,  0.1231, -0.1728, -0.1337],\n",
       "         [-0.0037,  0.0167,  0.0071,  ..., -0.0065, -0.0039, -0.0051],\n",
       "         [ 0.0167,  0.1341, -0.0137,  ...,  0.0768, -0.0905,  0.0581]]],\n",
       "       grad_fn=<NativeLayerNormBackward0>)"
      ]
     },
     "execution_count": 60,
     "metadata": {},
     "output_type": "execute_result"
    }
   ],
   "source": [
    "embeddings = model.bart.model.shared(utterance['input_ids'])\n",
    "encoded = model.bart.model.encoder(inputs_embeds=embeddings)\n",
    "encoded.last_hidden_state"
   ]
  },
  {
   "cell_type": "code",
   "execution_count": null,
   "id": "3b3fcca3",
   "metadata": {},
   "outputs": [],
   "source": []
  },
  {
   "cell_type": "code",
   "execution_count": null,
   "id": "76bb7a73",
   "metadata": {},
   "outputs": [],
   "source": []
  },
  {
   "cell_type": "code",
   "execution_count": null,
   "id": "8c2aa0c1",
   "metadata": {},
   "outputs": [],
   "source": [
    "pred.eq(utterance['labels'])"
   ]
  },
  {
   "cell_type": "code",
   "execution_count": null,
   "id": "62830bf6",
   "metadata": {},
   "outputs": [],
   "source": [
    "loss_fn = torch.nn.NLLLoss(ignore_index=model.bart.config.pad_token_id, reduction='mean')"
   ]
  },
  {
   "cell_type": "code",
   "execution_count": null,
   "id": "b321763a",
   "metadata": {},
   "outputs": [],
   "source": [
    "loss_fn(out.transpose(1,2), utterance['labels'])"
   ]
  },
  {
   "cell_type": "code",
   "execution_count": null,
   "id": "0e5fd1c9",
   "metadata": {},
   "outputs": [],
   "source": [
    "import torchmetrics"
   ]
  },
  {
   "cell_type": "code",
   "execution_count": null,
   "id": "55557128",
   "metadata": {},
   "outputs": [],
   "source": [
    "tokenizer.convert_tokens_to_string(tokenizer.batch_decode([[1]]))"
   ]
  },
  {
   "cell_type": "code",
   "execution_count": null,
   "id": "bab7f184",
   "metadata": {},
   "outputs": [],
   "source": [
    "tokenizer.batch_decode(pred, skip_special_tokens=True, clean_up_tokenization_spaces=True)"
   ]
  },
  {
   "cell_type": "code",
   "execution_count": null,
   "id": "dcb8c497",
   "metadata": {},
   "outputs": [],
   "source": [
    "i1['input_ids']"
   ]
  },
  {
   "cell_type": "code",
   "execution_count": null,
   "id": "9fafdec2",
   "metadata": {},
   "outputs": [],
   "source": [
    "pred"
   ]
  },
  {
   "cell_type": "code",
   "execution_count": null,
   "id": "c3259ae1",
   "metadata": {},
   "outputs": [],
   "source": [
    "gen_config"
   ]
  },
  {
   "cell_type": "code",
   "execution_count": null,
   "id": "c8293c5c",
   "metadata": {},
   "outputs": [],
   "source": [
    "model.bart.generation_config"
   ]
  },
  {
   "cell_type": "code",
   "execution_count": null,
   "id": "f0b439dc",
   "metadata": {},
   "outputs": [],
   "source": [
    "tokenizer.convert_tokens_to_ids('I')"
   ]
  },
  {
   "cell_type": "code",
   "execution_count": null,
   "id": "ba62da37",
   "metadata": {},
   "outputs": [],
   "source": []
  }
 ],
 "metadata": {
  "kernelspec": {
   "display_name": "Python 3 (ipykernel)",
   "language": "python",
   "name": "python3"
  },
  "language_info": {
   "codemirror_mode": {
    "name": "ipython",
    "version": 3
   },
   "file_extension": ".py",
   "mimetype": "text/x-python",
   "name": "python",
   "nbconvert_exporter": "python",
   "pygments_lexer": "ipython3",
   "version": "3.9.16"
  }
 },
 "nbformat": 4,
 "nbformat_minor": 5
}
