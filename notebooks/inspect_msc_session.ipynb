{
 "cells": [
  {
   "cell_type": "code",
   "execution_count": 21,
   "metadata": {},
   "outputs": [],
   "source": [
    "from dataset.msc_sessions import MSC_Session"
   ]
  },
  {
   "cell_type": "code",
   "execution_count": 25,
   "metadata": {},
   "outputs": [],
   "source": [
    "datadir = '/Users/FrankVerhoef/Programming/PEX/data/'\n",
    "basedir = 'msc/msc_dialogue/'\n",
    "\n",
    "all_sessions = [2, 3, 4]\n",
    "all_subsets = ['train', 'valid', 'test']\n"
   ]
  },
  {
   "cell_type": "code",
   "execution_count": 26,
   "metadata": {},
   "outputs": [
    {
     "name": "stdout",
     "output_type": "stream",
     "text": [
      "2023-04-25 16:09:59,801 INFO     | Read 4000 dialogues from MSC session 2 for train dataset\n",
      "2023-04-25 16:10:00,329 INFO     | Read 500 dialogues from MSC session 2 for valid dataset\n",
      "2023-04-25 16:10:00,368 INFO     | Read 501 dialogues from MSC session 2 for test dataset\n",
      "2023-04-25 16:10:00,484 INFO     | Read 4000 dialogues from MSC session 3 for train dataset\n",
      "2023-04-25 16:10:00,572 INFO     | Read 500 dialogues from MSC session 3 for valid dataset\n",
      "2023-04-25 16:10:00,622 INFO     | Read 501 dialogues from MSC session 3 for test dataset\n",
      "2023-04-25 16:10:00,674 INFO     | Read 1001 dialogues from MSC session 4 for train dataset\n",
      "2023-04-25 16:10:00,719 INFO     | Read 500 dialogues from MSC session 4 for valid dataset\n",
      "2023-04-25 16:10:00,756 INFO     | Read 501 dialogues from MSC session 4 for test dataset\n"
     ]
    }
   ],
   "source": [
    "counts = dict()\n",
    "for session in all_sessions:\n",
    "    if session == 1:\n",
    "        session = '-'.join(['1', 'both', 'revised'])\n",
    "    counts[session] = dict()\n",
    "    for subset in all_subsets:\n",
    "\n",
    "        msc_turns = MSC_Session(\n",
    "            basedir=datadir+basedir, \n",
    "            sessions=[session], \n",
    "            subset=subset, \n",
    "        )\n",
    "        ids = set()\n",
    "        for d in msc_turns.dialogues:\n",
    "            id = d['dialog'][0]['convai2_id']\n",
    "            ids.add(id)\n",
    "        counts[session][subset] = ids\n"
   ]
  },
  {
   "cell_type": "code",
   "execution_count": 27,
   "metadata": {},
   "outputs": [
    {
     "name": "stdout",
     "output_type": "stream",
     "text": [
      "2 train 4000\n",
      "2 valid 500\n",
      "2 test 501\n",
      "3 train 4000\n",
      "3 valid 500\n",
      "3 test 501\n",
      "4 train 1001\n",
      "4 valid 500\n",
      "4 test 501\n"
     ]
    }
   ],
   "source": [
    "for s in [2,3,4]:\n",
    "    for subset in all_subsets:\n",
    "        print(s, subset, len(counts[s][subset]))"
   ]
  },
  {
   "cell_type": "code",
   "execution_count": 28,
   "metadata": {},
   "outputs": [
    {
     "name": "stdout",
     "output_type": "stream",
     "text": [
      "\t2\t3\t4\n",
      "train\t0\t0\t0\t\n",
      "valid\t0\t0\t0\t\n",
      "test\t501\t501\t501\t\n"
     ]
    }
   ],
   "source": [
    "print('\\t2\\t3\\t4')\n",
    "for subset in all_subsets:\n",
    "    print(subset, end='\\t')\n",
    "    for s in [2,3,4]:\n",
    "        print(len(counts[3]['test'].intersection(counts[s][subset])), end='\\t')\n",
    "    print()\n"
   ]
  },
  {
   "attachments": {},
   "cell_type": "markdown",
   "metadata": {},
   "source": [
    "### Check content of MSC session2"
   ]
  },
  {
   "cell_type": "code",
   "execution_count": 8,
   "metadata": {},
   "outputs": [
    {
     "name": "stdout",
     "output_type": "stream",
     "text": [
      "2023-04-24 13:28:55,213 INFO     | Init ConvAI2 with basedir=/Users/FrankVerhoef/Programming/PEX/data/msc/msc_dialogue/ConvAI2/, version=['both', 'revised'], subset=train\n",
      "2023-04-24 13:28:55,213 INFO     | For ConvAI2 dataset, use 90% of train dataset for training (rest is available as validation dataset)\n",
      "/Users/FrankVerhoef/Programming/PEX/data/msc/msc_dialogue/ConvAI2/train_both_revised.txt\n",
      "2023-04-24 13:28:55,741 INFO     | Read 16090 dialogues from ConvAI2 for train dataset\n",
      "2023-04-24 13:28:56,533 INFO     | Read 4000 dialogues from MSC session 2 for train dataset\n",
      "2023-04-24 13:28:56,994 INFO     | Read 4000 dialogues from MSC session 3 for train dataset\n",
      "2023-04-24 13:28:57,116 INFO     | Read 1001 dialogues from MSC session 4 for train dataset\n"
     ]
    }
   ],
   "source": [
    "s1 = MSC_Session(\n",
    "    basedir=datadir+basedir, \n",
    "    sessions = ['-'.join(['1', 'both', 'revised'])], \n",
    "    subset='train', \n",
    ")\n",
    "s2 = MSC_Session(\n",
    "    basedir=datadir+basedir, \n",
    "    sessions=[2], \n",
    "    subset='train', \n",
    ")\n",
    "s3 = MSC_Session(\n",
    "    basedir=datadir+basedir, \n",
    "    sessions=[3], \n",
    "    subset='train', \n",
    ")\n",
    "s4 = MSC_Session(\n",
    "    basedir=datadir+basedir, \n",
    "    sessions=[4], \n",
    "    subset='train', \n",
    ")"
   ]
  },
  {
   "cell_type": "code",
   "execution_count": 30,
   "metadata": {},
   "outputs": [
    {
     "data": {
      "text/plain": [
       "(dict_keys(['personas', 'dialog']),\n",
       " dict_keys(['personas', 'dialog', 'metadata', 'previous_dialogs', 'init_personas']))"
      ]
     },
     "execution_count": 30,
     "metadata": {},
     "output_type": "execute_result"
    }
   ],
   "source": [
    "s1.dialogues[0].keys(), s2.dialogues[0].keys()"
   ]
  },
  {
   "cell_type": "code",
   "execution_count": 32,
   "metadata": {},
   "outputs": [
    {
     "data": {
      "text/plain": [
       "[{'personas': [['My name is Brian.',\n",
       "    'I like to draw instead of taking notes in class.',\n",
       "    \"I'm in the Griffindore house of Harry Potter. I have long hair.\",\n",
       "    'I have three friends.'],\n",
       "   ['I work in marketing. I worked on marketing for the Harry Potter books.',\n",
       "    \"I love fan art. I'm in the Hufflepuff house of Harry Potter.\",\n",
       "    'I like the color pink.',\n",
       "    'I like Bob Dylan.']],\n",
       "  'dialog': [{'text': \"Hi! I'm brian. How are you?\"},\n",
       "   {'text': \"Well I'm delightful today brian! I'm planning a hike\"},\n",
       "   {'text': 'Nice. I wish I could hike at hogwarts! How cool would that be?'},\n",
       "   {'text': 'Sounds dangerous with all those death eaters! I did marketing for harry potter books for a bit'},\n",
       "   {'text': \"Seriously? That's awesome. I often draw hp in class instead of taking notes\"},\n",
       "   {'text': 'I love fan art! What harry potter house would you belong to? Hufflepuff here!'},\n",
       "   {'text': \"Totally griffindore! Tho I bet I'd have to cut my long hair.\"},\n",
       "   {'text': 'Haha I bet you would be okay. Only prob with hufflepuff no pink!'},\n",
       "   {'text': \"I bet there's a spell to turn things pink. Ooh, how about a pink lizard?\"},\n",
       "   {'text': 'Hmm, sounds pretty cool. But not as cool as my pink hiking boots!'},\n",
       "   {'text': 'With heels? Spike heeled pink boots would be so cool!'},\n",
       "   {'text': \"Wouldn't be practical for the trails. Some bob dylan and hiking boots, all you need\"},\n",
       "   {'text': 'Yeah, I bet your friends would laugh. My would too. All three of them'},\n",
       "   {'text': 'Laugh at what? Treasure your friends! Before they be blowing in the wind'},\n",
       "   {'text': 'Like a tornado? That would suck'},\n",
       "   {'text': 'No, like bob dylans song. Do you dig folk?'}],\n",
       "  'time_num': 7,\n",
       "  'time_unit': 'days',\n",
       "  'time_back': '11 days 2 hours ago'},\n",
       " {'personas': [['I enjoy Bob Dylan.',\n",
       "    'the second harry potter book is my favorite.',\n",
       "    'I have never seen Bob Dylan in concert.',\n",
       "    'I like to draw.',\n",
       "    'I like drawing harry potter.'],\n",
       "   ['I like Bob Dylan.',\n",
       "    'The first harry potter book was my favorite.',\n",
       "    'I have seen Bob Dylan in concert a few times.',\n",
       "    'I worked some marketing on harry potter books. I enjoy art. I cant draw.']],\n",
       "  'dialog': [{'text': 'I was listening to Bob Dylan this morning - so good!'},\n",
       "   {'text': 'I like Bob Dylan, too.  What song were you listening to?'},\n",
       "   {'text': 'Mr Tambourine Man. Some of the classics. What is your favorite Harry Potter book?'},\n",
       "   {'text': \"The first one.  Mr Tambourine man is my fave.  I didn't know you liked Dylan.\"},\n",
       "   {'text': \"I love Bob Dylan. I don't know a lot of his rarer stuff but I like what I know! I like the second Harry Potter book most myself.\"},\n",
       "   {'text': 'Yes, the second book is good too.  Ever been to a Dylan concert?  I have been to a few.'},\n",
       "   {'text': \"No, sadly not. I bet he's amazing live. When and where did you see him?\"},\n",
       "   {'text': \"The last time was the Neverending Tour back in 2013.  You're right, he is amazing live.  You should try to go to one!\"},\n",
       "   {'text': \"I will do! I'm not sure when he's touring next but I'll try to get tickets. Do you like to draw? I love drawing.\"},\n",
       "   {'text': \"I love art, but I can't draw at all.  I did some work projects for some Potter books, but just the marketing side.\"},\n",
       "   {'text': \"That's so cool! I'm not amazing at it but I still like to do it. I like drawing Harry Potter related stuff.\"},\n",
       "   {'text': \"Awesome.  Keep working at it, you'll get better.  Maybe you could do an internship in an art department.\"}],\n",
       "  'time_num': 4,\n",
       "  'time_unit': 'days',\n",
       "  'time_back': '4 days 2 hours ago'},\n",
       " {'personas': [['I applied for an art department internship.',\n",
       "    'I much like conflict.',\n",
       "    'I am taking a class. I once had an abusive teacher. I missed some classes because I was sick.',\n",
       "    'I get frequent ear infections. I am allergic to many things in the air including grass and trees.',\n",
       "    'My allergies cause extreme sneezing.'],\n",
       "   ['I work for a marketing firm,. My marketing firm is helping the PR people of JK Rowling. I love Harry Potter. I hate JK Rowling and her opinions too.',\n",
       "    'I have seasonal allergies. I have problems during high pollen counts,.']],\n",
       "  'dialog': [{'text': 'I applied for an internship in art department like you said! '},\n",
       "   {'text': 'Nice! when will you hear back?'},\n",
       "   {'text': 'I believe I should hear something in about a week. They were going to check my references. I have been stoked about it. Anything new with you?'},\n",
       "   {'text': \"Brilliant, good luck! Not to much as you heard J K Rowling is not the public's faviourite person right now. My marketing firm is helping her PR people to try and improve her image. I love harry potter, but i really hate her and her opinions. I am not sure if i can work on this project. What should i do?\"},\n",
       "   {'text': \"Yikes, that is a tough spot to be in. If you have the choice to work on something else that's what I would do. I myself don't like a lot of conflict  and try to stay in  my own lane so its whatever you think. \"},\n",
       "   {'text': 'Yes i am at a cross roads, caught between my professional and personal views. It is not a fun situation. Any way enough of that. What about you how is class going?'},\n",
       "   {'text': \"I understand because I had a teacher who was super mean and bullied people but I didn't want to stand up to him because then I would be the target. I regret that when I think back to it. Dilemmas, what to do. Class is pretty good. I was sick for a couple days and had to miss though. \"},\n",
       "   {'text': 'Yeah not fun times. Oof! are you recovered now was it anything serious?'},\n",
       "   {'text': 'I just had an ear infection and I get them a lot so I got some meds and are feeling better already. I am allergic to all sorts of things in the air, grass and trees so I am used to it. Do you have allergies?'},\n",
       "   {'text': 'I am glad it was nothing too bad. Yes unfortunately i have seasonal allergies so when the pollen is high i feel like my head is in bubble wrap its terrible'},\n",
       "   {'text': 'Exactly! I start sneezing and it turns into something from a Seinfeld episode. It almost seems like an act but its real! HA!'},\n",
       "   {'text': 'Omg! that is hilarious. '}],\n",
       "  'time_num': 2,\n",
       "  'time_unit': 'hours',\n",
       "  'time_back': ' 2 hours ago'}]"
      ]
     },
     "execution_count": 32,
     "metadata": {},
     "output_type": "execute_result"
    }
   ],
   "source": [
    "s4.dialogues[0]['previous_dialogs']"
   ]
  },
  {
   "cell_type": "code",
   "execution_count": 33,
   "metadata": {},
   "outputs": [
    {
     "data": {
      "text/plain": [
       "[['My name is Brian.',\n",
       "  'I like to draw instead of taking notes in class.',\n",
       "  \"I'm in the Griffindore house of Harry Potter. The 2nd harry potter book is my favorite.  I have long hair.\",\n",
       "  'I enjoy Bob Dylan. I have never seen Bob Dylan in concert.',\n",
       "  'I like drawing harry potter. I applied for an art department internship.',\n",
       "  'I much like conflict. I am taking a class. I once had an abusive teacher. I missed some classes because I was sick. I get frequent ear infections. I am allergic to many things in the air including grass and trees. My allergies cause extreme sneezing.'],\n",
       " ['I work in marketing firm. I worked on marketing for the Harry Potter books.',\n",
       "  \"I love fan art. I'm in the Hufflepuff house of Harry Potter. The first harry potter book was my favorite.\",\n",
       "  'I like the color pink.',\n",
       "  'I like Bob Dylan. I have seen Bob Dylan in concert a few times.',\n",
       "  'I enjoy art. I cant draw.',\n",
       "  'My marketing firm is helping the PR people of JK Rowling. I love Harry Potter. I hate JK Rowling and her opinions too.',\n",
       "  'I have seasonal allergies. I have problems during high pollen counts,.']]"
      ]
     },
     "execution_count": 33,
     "metadata": {},
     "output_type": "execute_result"
    }
   ],
   "source": [
    "s4.dialogues[0]['personas']"
   ]
  },
  {
   "cell_type": "code",
   "execution_count": null,
   "metadata": {},
   "outputs": [],
   "source": [
    "s2.dialogues[0]"
   ]
  },
  {
   "cell_type": "code",
   "execution_count": null,
   "metadata": {},
   "outputs": [],
   "source": [
    "s3.dialogues[0]"
   ]
  },
  {
   "cell_type": "code",
   "execution_count": 11,
   "metadata": {},
   "outputs": [],
   "source": [
    "for d in s4.dialogues:\n",
    "    if d['dialog'][0]['convai2_id'] == 'train:ordered_3537':\n",
    "        s4_d3537 = d\n",
    "        break"
   ]
  },
  {
   "cell_type": "code",
   "execution_count": 12,
   "metadata": {},
   "outputs": [],
   "source": [
    "for d in s3.dialogues:\n",
    "    if d['dialog'][0]['convai2_id'] == 'train:ordered_3537':\n",
    "        s3_d3537 = d\n",
    "        break"
   ]
  },
  {
   "cell_type": "code",
   "execution_count": null,
   "metadata": {},
   "outputs": [],
   "source": [
    "s3_d3537['personas']\n"
   ]
  },
  {
   "cell_type": "code",
   "execution_count": null,
   "metadata": {},
   "outputs": [],
   "source": [
    "s4_d3537['personas']"
   ]
  },
  {
   "cell_type": "code",
   "execution_count": null,
   "metadata": {},
   "outputs": [],
   "source": [
    "s3_d3537['init_personas']"
   ]
  },
  {
   "cell_type": "code",
   "execution_count": null,
   "metadata": {},
   "outputs": [],
   "source": [
    "s4_d3537['init_personas']"
   ]
  },
  {
   "cell_type": "code",
   "execution_count": null,
   "metadata": {},
   "outputs": [],
   "source": [
    "s3_d3537['dialog']"
   ]
  },
  {
   "cell_type": "code",
   "execution_count": 14,
   "metadata": {},
   "outputs": [
    {
     "data": {
      "text/plain": [
       "[[\"I've been working a lot of extra hours. I want to break from my non-stop work.\",\n",
       "  'I like going to the beach.',\n",
       "  'I love brownies.'],\n",
       " [\"I served or serve in the military. I've traveled the world.\",\n",
       "  \"I've blown things up.\",\n",
       "  \"I've never been to Bora Bora.\",\n",
       "  'I love chocolate.']]"
      ]
     },
     "execution_count": 14,
     "metadata": {},
     "output_type": "execute_result"
    }
   ],
   "source": [
    "s4_d3537['previous_dialogs'][0]['personas']"
   ]
  },
  {
   "cell_type": "code",
   "execution_count": 15,
   "metadata": {},
   "outputs": [
    {
     "data": {
      "text/plain": [
       "[{'text': 'I need some advice on where to go on vacation, have you been anywhere lately?'},\n",
       " {'text': \"I have been all over the world. I'm military.\"},\n",
       " {'text': 'That is good you have alot of travel experience'},\n",
       " {'text': 'Sure do. And a lot of experience blowing things up! Haha. Bora bora is nice.'},\n",
       " {'text': \"I've been working non stop crazy hours and need a break.\"},\n",
       " {'text': 'The best breaks are spent with cute cuddly kittens.'},\n",
       " {'text': 'Bora bora sounds nice, you have been there before?'},\n",
       " {'text': 'Nope... Just sounds nice, and repetitive. Bora... Bora. Ha!'},\n",
       " {'text': 'Kittens really? I rather be at the beach.'},\n",
       " {'text': 'Only if the beach was covered in kittens!'},\n",
       " {'text': 'That would be a sight to see.'},\n",
       " {'text': 'Or maybe brownies... I love chocolate.'},\n",
       " {'text': \"I love brownies too but I haven't quite perfected mine yet.\"},\n",
       " {'text': \"Well I'm available to taste test!\"}]"
      ]
     },
     "execution_count": 15,
     "metadata": {},
     "output_type": "execute_result"
    }
   ],
   "source": [
    "s4_d3537['previous_dialogs'][0]['dialog']"
   ]
  },
  {
   "cell_type": "code",
   "execution_count": 13,
   "metadata": {},
   "outputs": [
    {
     "data": {
      "text/plain": [
       "[[\"I'm a perfectionist.\",\n",
       "  \"If things aren't done right I'll redo them again and again.\",\n",
       "  'I take forever to get tasks done so I start early and clock out late.',\n",
       "  'I work too much.',\n",
       "  'I think I need a vacation.'],\n",
       " ['I work in the military.',\n",
       "  \"I've been all over the world.\",\n",
       "  'I like things that explode.',\n",
       "  'I also like kittens.',\n",
       "  'Brownies are my favorite dessert.']]"
      ]
     },
     "execution_count": 13,
     "metadata": {},
     "output_type": "execute_result"
    }
   ],
   "source": [
    "s4_d3537['init_personas']"
   ]
  },
  {
   "cell_type": "code",
   "execution_count": 7,
   "metadata": {},
   "outputs": [
    {
     "data": {
      "text/plain": [
       "[['i work in the military.',\n",
       "  \"i've been all over the world.\",\n",
       "  'i like things that explode.',\n",
       "  'i also like kittens.',\n",
       "  'brownies are my favorite dessert.'],\n",
       " [\"i'm a perfectionist.\",\n",
       "  \"if things aren't done right i'll redo them again and again.\",\n",
       "  'i take forever to get tasks done so i start early and clock out late.',\n",
       "  'i work too much.',\n",
       "  'i think i need a vacation.']]"
      ]
     },
     "execution_count": 7,
     "metadata": {},
     "output_type": "execute_result"
    }
   ],
   "source": [
    "s1.dialogues[3537]['personas']"
   ]
  },
  {
   "cell_type": "code",
   "execution_count": 16,
   "metadata": {},
   "outputs": [
    {
     "data": {
      "text/plain": [
       "[{'text': 'i need some advice on where to go on vacation , have you been anywhere lately ?',\n",
       "  'id': 'Speaker 1'},\n",
       " {'text': \"i have been all over the world . i'm military .\",\n",
       "  'id': 'Speaker 2'},\n",
       " {'text': 'that is good you have alot of travel experience',\n",
       "  'id': 'Speaker 1'},\n",
       " {'text': 'sure do . and a lot of experience blowing things up ! haha . bora bora is nice .',\n",
       "  'id': 'Speaker 2'},\n",
       " {'text': \"i've been working non stop crazy hours and need a break .\",\n",
       "  'id': 'Speaker 1'},\n",
       " {'text': 'the best breaks are spent with cute cuddly kittens .',\n",
       "  'id': 'Speaker 2'},\n",
       " {'text': 'bora bora sounds nice , you have been there before ?',\n",
       "  'id': 'Speaker 1'},\n",
       " {'text': 'nope . . . just sounds nice , and repetitive . bora . . . bora . ha !',\n",
       "  'id': 'Speaker 2'},\n",
       " {'text': 'kittens really ? i rather be at the beach .', 'id': 'Speaker 1'},\n",
       " {'text': 'only if the beach was covered in kittens !', 'id': 'Speaker 2'},\n",
       " {'text': 'that would be a sight to see .', 'id': 'Speaker 1'},\n",
       " {'text': 'or maybe brownies . . . i love chocolate .', 'id': 'Speaker 2'},\n",
       " {'text': \"i love brownies too but i haven't quite perfected mine yet .\",\n",
       "  'id': 'Speaker 1'},\n",
       " {'text': \"well i'm available to taste test !\", 'id': 'Speaker 2'}]"
      ]
     },
     "execution_count": 16,
     "metadata": {},
     "output_type": "execute_result"
    }
   ],
   "source": [
    "s1.dialogues[3537]['dialog']"
   ]
  }
 ],
 "metadata": {
  "kernelspec": {
   "display_name": "pex",
   "language": "python",
   "name": "python3"
  },
  "language_info": {
   "codemirror_mode": {
    "name": "ipython",
    "version": 3
   },
   "file_extension": ".py",
   "mimetype": "text/x-python",
   "name": "python",
   "nbconvert_exporter": "python",
   "pygments_lexer": "ipython3",
   "version": "3.9.16"
  },
  "orig_nbformat": 4
 },
 "nbformat": 4,
 "nbformat_minor": 2
}
